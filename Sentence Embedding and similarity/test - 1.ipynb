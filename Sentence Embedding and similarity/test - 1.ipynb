{
 "cells": [
  {
   "cell_type": "code",
   "id": "initial_id",
   "metadata": {
    "collapsed": true,
    "ExecuteTime": {
     "end_time": "2024-09-20T02:15:42.117226Z",
     "start_time": "2024-09-20T02:15:33.716735Z"
    }
   },
   "source": "%pip install -U sentence-transformers",
   "outputs": [
    {
     "name": "stdout",
     "output_type": "stream",
     "text": [
      "Requirement already satisfied: sentence-transformers in c:\\users\\bhara\\anaconda3\\lib\\site-packages (3.1.1)\n",
      "Requirement already satisfied: transformers<5.0.0,>=4.38.0 in c:\\users\\bhara\\anaconda3\\lib\\site-packages (from sentence-transformers) (4.44.2)\n",
      "Requirement already satisfied: tqdm in c:\\users\\bhara\\appdata\\roaming\\python\\python311\\site-packages (from sentence-transformers) (4.66.1)\n",
      "Requirement already satisfied: torch>=1.11.0 in c:\\users\\bhara\\anaconda3\\lib\\site-packages (from sentence-transformers) (2.4.0)\n",
      "Requirement already satisfied: scikit-learn in c:\\users\\bhara\\appdata\\roaming\\python\\python311\\site-packages (from sentence-transformers) (1.4.2)\n",
      "Requirement already satisfied: scipy in c:\\users\\bhara\\appdata\\roaming\\python\\python311\\site-packages (from sentence-transformers) (1.13.0)\n",
      "Requirement already satisfied: huggingface-hub>=0.19.3 in c:\\users\\bhara\\anaconda3\\lib\\site-packages (from sentence-transformers) (0.25.0)\n",
      "Requirement already satisfied: Pillow in c:\\users\\bhara\\appdata\\roaming\\python\\python311\\site-packages (from sentence-transformers) (10.0.1)\n",
      "Requirement already satisfied: filelock in c:\\users\\bhara\\appdata\\roaming\\python\\python311\\site-packages (from huggingface-hub>=0.19.3->sentence-transformers) (3.12.4)\n",
      "Requirement already satisfied: fsspec>=2023.5.0 in c:\\users\\bhara\\appdata\\roaming\\python\\python311\\site-packages (from huggingface-hub>=0.19.3->sentence-transformers) (2023.9.2)\n",
      "Requirement already satisfied: packaging>=20.9 in c:\\users\\bhara\\appdata\\roaming\\python\\python311\\site-packages (from huggingface-hub>=0.19.3->sentence-transformers) (23.2)\n",
      "Requirement already satisfied: pyyaml>=5.1 in c:\\users\\bhara\\appdata\\roaming\\python\\python311\\site-packages (from huggingface-hub>=0.19.3->sentence-transformers) (6.0.1)\n",
      "Requirement already satisfied: requests in c:\\users\\bhara\\anaconda3\\lib\\site-packages (from huggingface-hub>=0.19.3->sentence-transformers) (2.32.3)\n",
      "Requirement already satisfied: typing-extensions>=3.7.4.3 in c:\\users\\bhara\\appdata\\roaming\\python\\python311\\site-packages (from huggingface-hub>=0.19.3->sentence-transformers) (4.8.0)\n",
      "Requirement already satisfied: sympy in c:\\users\\bhara\\appdata\\roaming\\python\\python311\\site-packages (from torch>=1.11.0->sentence-transformers) (1.12)\n",
      "Requirement already satisfied: networkx in c:\\users\\bhara\\anaconda3\\lib\\site-packages (from torch>=1.11.0->sentence-transformers) (3.3)\n",
      "Requirement already satisfied: jinja2 in c:\\users\\bhara\\appdata\\roaming\\python\\python311\\site-packages (from torch>=1.11.0->sentence-transformers) (3.1.2)\n",
      "Requirement already satisfied: colorama in c:\\users\\bhara\\appdata\\roaming\\python\\python311\\site-packages (from tqdm->sentence-transformers) (0.4.6)\n",
      "Requirement already satisfied: numpy>=1.17 in c:\\users\\bhara\\appdata\\roaming\\python\\python311\\site-packages (from transformers<5.0.0,>=4.38.0->sentence-transformers) (1.26.0)\n",
      "Requirement already satisfied: regex!=2019.12.17 in c:\\users\\bhara\\appdata\\roaming\\python\\python311\\site-packages (from transformers<5.0.0,>=4.38.0->sentence-transformers) (2023.8.8)\n",
      "Requirement already satisfied: safetensors>=0.4.1 in c:\\users\\bhara\\anaconda3\\lib\\site-packages (from transformers<5.0.0,>=4.38.0->sentence-transformers) (0.4.5)\n",
      "Requirement already satisfied: tokenizers<0.20,>=0.19 in c:\\users\\bhara\\anaconda3\\lib\\site-packages (from transformers<5.0.0,>=4.38.0->sentence-transformers) (0.19.1)\n",
      "Requirement already satisfied: joblib>=1.2.0 in c:\\users\\bhara\\appdata\\roaming\\python\\python311\\site-packages (from scikit-learn->sentence-transformers) (1.4.0)\n",
      "Requirement already satisfied: threadpoolctl>=2.0.0 in c:\\users\\bhara\\appdata\\roaming\\python\\python311\\site-packages (from scikit-learn->sentence-transformers) (3.4.0)\n",
      "Requirement already satisfied: MarkupSafe>=2.0 in c:\\users\\bhara\\appdata\\roaming\\python\\python311\\site-packages (from jinja2->torch>=1.11.0->sentence-transformers) (2.1.3)\n",
      "Requirement already satisfied: charset-normalizer<4,>=2 in c:\\users\\bhara\\appdata\\roaming\\python\\python311\\site-packages (from requests->huggingface-hub>=0.19.3->sentence-transformers) (3.3.0)\n",
      "Requirement already satisfied: idna<4,>=2.5 in c:\\users\\bhara\\appdata\\roaming\\python\\python311\\site-packages (from requests->huggingface-hub>=0.19.3->sentence-transformers) (2.10)\n",
      "Requirement already satisfied: urllib3<3,>=1.21.1 in c:\\users\\bhara\\appdata\\roaming\\python\\python311\\site-packages (from requests->huggingface-hub>=0.19.3->sentence-transformers) (2.2.2)\n",
      "Requirement already satisfied: certifi>=2017.4.17 in c:\\users\\bhara\\appdata\\roaming\\python\\python311\\site-packages (from requests->huggingface-hub>=0.19.3->sentence-transformers) (2023.7.22)\n",
      "Requirement already satisfied: mpmath>=0.19 in c:\\users\\bhara\\appdata\\roaming\\python\\python311\\site-packages (from sympy->torch>=1.11.0->sentence-transformers) (1.3.0)\n",
      "Note: you may need to restart the kernel to use updated packages.\n"
     ]
    }
   ],
   "execution_count": 4
  },
  {
   "metadata": {
    "ExecuteTime": {
     "end_time": "2024-09-20T02:17:53.942045Z",
     "start_time": "2024-09-20T02:17:46.297286Z"
    }
   },
   "cell_type": "code",
   "source": "from sentence_transformers import SentenceTransformer",
   "id": "d5d0fe2626036dcf",
   "outputs": [
    {
     "name": "stdout",
     "output_type": "stream",
     "text": [
      "WARNING:tensorflow:From C:\\Users\\bhara\\anaconda3\\Lib\\site-packages\\tf_keras\\src\\losses.py:2976: The name tf.losses.sparse_softmax_cross_entropy is deprecated. Please use tf.compat.v1.losses.sparse_softmax_cross_entropy instead.\n",
      "\n"
     ]
    }
   ],
   "execution_count": 7
  },
  {
   "metadata": {
    "ExecuteTime": {
     "end_time": "2024-09-20T02:24:25.557405Z",
     "start_time": "2024-09-20T02:23:51.364046Z"
    }
   },
   "cell_type": "code",
   "source": "model = SentenceTransformer('all-MiniLM-L6-v2')",
   "id": "5131a00256c13896",
   "outputs": [
    {
     "data": {
      "text/plain": [
       "modules.json:   0%|          | 0.00/349 [00:00<?, ?B/s]"
      ],
      "application/vnd.jupyter.widget-view+json": {
       "version_major": 2,
       "version_minor": 0,
       "model_id": "dd5d2c4f186548d1a09bfe7f994383a6"
      }
     },
     "metadata": {},
     "output_type": "display_data"
    },
    {
     "name": "stderr",
     "output_type": "stream",
     "text": [
      "C:\\Users\\bhara\\anaconda3\\Lib\\site-packages\\huggingface_hub\\file_download.py:147: UserWarning: `huggingface_hub` cache-system uses symlinks by default to efficiently store duplicated files but your machine does not support them in C:\\Users\\bhara\\.cache\\huggingface\\hub\\models--sentence-transformers--all-MiniLM-L6-v2. Caching files will still work but in a degraded version that might require more space on your disk. This warning can be disabled by setting the `HF_HUB_DISABLE_SYMLINKS_WARNING` environment variable. For more details, see https://huggingface.co/docs/huggingface_hub/how-to-cache#limitations.\n",
      "To support symlinks on Windows, you either need to activate Developer Mode or to run Python as an administrator. In order to activate developer mode, see this article: https://docs.microsoft.com/en-us/windows/apps/get-started/enable-your-device-for-development\n",
      "  warnings.warn(message)\n"
     ]
    },
    {
     "data": {
      "text/plain": [
       "config_sentence_transformers.json:   0%|          | 0.00/116 [00:00<?, ?B/s]"
      ],
      "application/vnd.jupyter.widget-view+json": {
       "version_major": 2,
       "version_minor": 0,
       "model_id": "f9145cdfcba34bf4abd5841b231c5f2b"
      }
     },
     "metadata": {},
     "output_type": "display_data"
    },
    {
     "data": {
      "text/plain": [
       "README.md:   0%|          | 0.00/10.7k [00:00<?, ?B/s]"
      ],
      "application/vnd.jupyter.widget-view+json": {
       "version_major": 2,
       "version_minor": 0,
       "model_id": "ef5e5d0f0cbc4d2a81afec26120b9d63"
      }
     },
     "metadata": {},
     "output_type": "display_data"
    },
    {
     "data": {
      "text/plain": [
       "sentence_bert_config.json:   0%|          | 0.00/53.0 [00:00<?, ?B/s]"
      ],
      "application/vnd.jupyter.widget-view+json": {
       "version_major": 2,
       "version_minor": 0,
       "model_id": "3cff9f0fc30348bbb90e76f9ca669c2d"
      }
     },
     "metadata": {},
     "output_type": "display_data"
    },
    {
     "data": {
      "text/plain": [
       "config.json:   0%|          | 0.00/612 [00:00<?, ?B/s]"
      ],
      "application/vnd.jupyter.widget-view+json": {
       "version_major": 2,
       "version_minor": 0,
       "model_id": "623be2b0865242909762a4ff80fe16f0"
      }
     },
     "metadata": {},
     "output_type": "display_data"
    },
    {
     "data": {
      "text/plain": [
       "model.safetensors:   0%|          | 0.00/90.9M [00:00<?, ?B/s]"
      ],
      "application/vnd.jupyter.widget-view+json": {
       "version_major": 2,
       "version_minor": 0,
       "model_id": "bce2ae361b7a41818f7f1e195bc2ed30"
      }
     },
     "metadata": {},
     "output_type": "display_data"
    },
    {
     "data": {
      "text/plain": [
       "tokenizer_config.json:   0%|          | 0.00/350 [00:00<?, ?B/s]"
      ],
      "application/vnd.jupyter.widget-view+json": {
       "version_major": 2,
       "version_minor": 0,
       "model_id": "e8befd46a66a40b0aaaabd4f8e3f9634"
      }
     },
     "metadata": {},
     "output_type": "display_data"
    },
    {
     "data": {
      "text/plain": [
       "vocab.txt:   0%|          | 0.00/232k [00:00<?, ?B/s]"
      ],
      "application/vnd.jupyter.widget-view+json": {
       "version_major": 2,
       "version_minor": 0,
       "model_id": "7b3b11ee7d104cdd9a2cf1f26e9ab081"
      }
     },
     "metadata": {},
     "output_type": "display_data"
    },
    {
     "data": {
      "text/plain": [
       "tokenizer.json:   0%|          | 0.00/466k [00:00<?, ?B/s]"
      ],
      "application/vnd.jupyter.widget-view+json": {
       "version_major": 2,
       "version_minor": 0,
       "model_id": "1c8817bad5734b1f91679fe8ecb9a02f"
      }
     },
     "metadata": {},
     "output_type": "display_data"
    },
    {
     "data": {
      "text/plain": [
       "special_tokens_map.json:   0%|          | 0.00/112 [00:00<?, ?B/s]"
      ],
      "application/vnd.jupyter.widget-view+json": {
       "version_major": 2,
       "version_minor": 0,
       "model_id": "149fe3d2f8fc462fb989511d45c3ae64"
      }
     },
     "metadata": {},
     "output_type": "display_data"
    },
    {
     "name": "stderr",
     "output_type": "stream",
     "text": [
      "C:\\Users\\bhara\\anaconda3\\Lib\\site-packages\\transformers\\tokenization_utils_base.py:1601: FutureWarning: `clean_up_tokenization_spaces` was not set. It will be set to `True` by default. This behavior will be depracted in transformers v4.45, and will be then set to `False` by default. For more details check this issue: https://github.com/huggingface/transformers/issues/31884\n",
      "  warnings.warn(\n"
     ]
    },
    {
     "data": {
      "text/plain": [
       "1_Pooling/config.json:   0%|          | 0.00/190 [00:00<?, ?B/s]"
      ],
      "application/vnd.jupyter.widget-view+json": {
       "version_major": 2,
       "version_minor": 0,
       "model_id": "503576a53a39406289884d0539b26f52"
      }
     },
     "metadata": {},
     "output_type": "display_data"
    }
   ],
   "execution_count": 8
  },
  {
   "metadata": {
    "ExecuteTime": {
     "end_time": "2024-09-20T02:26:43.939803Z",
     "start_time": "2024-09-20T02:26:43.935566Z"
    }
   },
   "cell_type": "code",
   "source": "sentences = ['the cat sits outside', 'the new movie is really good', 'the new movie is awesome' , 'the dog barks on the stangers']",
   "id": "fcd5ebacb374100f",
   "outputs": [],
   "execution_count": 9
  },
  {
   "metadata": {
    "ExecuteTime": {
     "end_time": "2024-09-20T02:27:24.865636Z",
     "start_time": "2024-09-20T02:27:24.102496Z"
    }
   },
   "cell_type": "code",
   "source": "embeddings = model.encode(sentences=sentences, convert_to_tensor=True)",
   "id": "d54a1ad588b7bd5b",
   "outputs": [],
   "execution_count": 10
  },
  {
   "metadata": {
    "ExecuteTime": {
     "end_time": "2024-09-20T02:29:42.050641Z",
     "start_time": "2024-09-20T02:29:42.045039Z"
    }
   },
   "cell_type": "code",
   "source": [
    "for sentence,embedding in zip(sentences,embeddings):\n",
    "    print(sentence)\n",
    "    print(len(embedding))"
   ],
   "id": "13c74cd6f23b78cd",
   "outputs": [
    {
     "name": "stdout",
     "output_type": "stream",
     "text": [
      "the cat sits outside\n",
      "384\n",
      "the new movie is really good\n",
      "384\n",
      "the new movie is awesome\n",
      "384\n",
      "the dog barks on the stangers\n",
      "384\n"
     ]
    }
   ],
   "execution_count": 12
  },
  {
   "metadata": {
    "ExecuteTime": {
     "end_time": "2024-09-20T02:38:03.484486Z",
     "start_time": "2024-09-20T02:38:03.479023Z"
    }
   },
   "cell_type": "code",
   "source": "from sentence_transformers import util",
   "id": "b80225d95a3e2f37",
   "outputs": [],
   "execution_count": 13
  },
  {
   "metadata": {
    "ExecuteTime": {
     "end_time": "2024-09-20T02:39:16.692456Z",
     "start_time": "2024-09-20T02:39:16.686711Z"
    }
   },
   "cell_type": "code",
   "source": "cosine_similarity = util.cos_sim(embeddings, embeddings)",
   "id": "6f7777d155ba8d80",
   "outputs": [],
   "execution_count": 16
  },
  {
   "metadata": {
    "ExecuteTime": {
     "end_time": "2024-09-20T02:39:19.936920Z",
     "start_time": "2024-09-20T02:39:19.928484Z"
    }
   },
   "cell_type": "code",
   "source": "cosine_similarity",
   "id": "c56403cf7ed06ce9",
   "outputs": [
    {
     "data": {
      "text/plain": [
       "tensor([[ 1.0000, -0.0207, -0.0247,  0.1739],\n",
       "        [-0.0207,  1.0000,  0.8602,  0.0971],\n",
       "        [-0.0247,  0.8602,  1.0000,  0.0807],\n",
       "        [ 0.1739,  0.0971,  0.0807,  1.0000]])"
      ]
     },
     "execution_count": 17,
     "metadata": {},
     "output_type": "execute_result"
    }
   ],
   "execution_count": 17
  },
  {
   "metadata": {
    "ExecuteTime": {
     "end_time": "2024-09-20T02:39:57.120616Z",
     "start_time": "2024-09-20T02:39:57.114707Z"
    }
   },
   "cell_type": "code",
   "source": "sentences",
   "id": "9cd26363b4d4bea3",
   "outputs": [
    {
     "data": {
      "text/plain": [
       "['the cat sits outside',\n",
       " 'the new movie is really good',\n",
       " 'the new movie is awesome',\n",
       " 'the dog barks on the stangers']"
      ]
     },
     "execution_count": 18,
     "metadata": {},
     "output_type": "execute_result"
    }
   ],
   "execution_count": 18
  },
  {
   "metadata": {
    "ExecuteTime": {
     "end_time": "2024-09-20T02:41:14.376194Z",
     "start_time": "2024-09-20T02:41:14.338068Z"
    }
   },
   "cell_type": "code",
   "source": "paraphrase = util.paraphrase_mining(model,sentences)",
   "id": "f242f2591ef320a1",
   "outputs": [],
   "execution_count": 19
  },
  {
   "metadata": {
    "ExecuteTime": {
     "end_time": "2024-09-20T02:44:00.696776Z",
     "start_time": "2024-09-20T02:44:00.689966Z"
    }
   },
   "cell_type": "code",
   "source": [
    "for similar_sentence in paraphrase[0:10]:\n",
    "    score,i ,j = similar_sentence\n",
    "    print(sentences[i], ' <> ' ,sentences[j], ' --> ' ,score)\n",
    "    "
   ],
   "id": "914dfe017ec44d04",
   "outputs": [
    {
     "name": "stdout",
     "output_type": "stream",
     "text": [
      "the new movie is really good  <>  the new movie is awesome  -->  0.8601709008216858\n",
      "the cat sits outside  <>  the dog barks on the stangers  -->  0.1739029884338379\n",
      "the new movie is really good  <>  the dog barks on the stangers  -->  0.09708116948604584\n",
      "the new movie is awesome  <>  the dog barks on the stangers  -->  0.08072952926158905\n",
      "the cat sits outside  <>  the new movie is really good  -->  -0.020667647942900658\n",
      "the cat sits outside  <>  the new movie is awesome  -->  -0.02468007430434227\n"
     ]
    }
   ],
   "execution_count": 23
  },
  {
   "metadata": {},
   "cell_type": "code",
   "outputs": [],
   "execution_count": null,
   "source": "",
   "id": "2499033e0b86dc90"
  }
 ],
 "metadata": {
  "kernelspec": {
   "display_name": "Python 3",
   "language": "python",
   "name": "python3"
  },
  "language_info": {
   "codemirror_mode": {
    "name": "ipython",
    "version": 2
   },
   "file_extension": ".py",
   "mimetype": "text/x-python",
   "name": "python",
   "nbconvert_exporter": "python",
   "pygments_lexer": "ipython2",
   "version": "2.7.6"
  }
 },
 "nbformat": 4,
 "nbformat_minor": 5
}
