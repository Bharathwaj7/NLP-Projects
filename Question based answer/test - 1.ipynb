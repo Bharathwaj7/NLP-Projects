{
 "cells": [
  {
   "cell_type": "code",
   "id": "initial_id",
   "metadata": {
    "collapsed": true,
    "ExecuteTime": {
     "end_time": "2024-09-21T15:50:18.291416Z",
     "start_time": "2024-09-21T15:50:18.286197Z"
    }
   },
   "source": "#https://public.ukp.informatik.tu-darmstadt.de/reimers/sentence-transformers/datasets/simplewiki-2020-11-01.jsonl.gz",
   "outputs": [],
   "execution_count": 88
  },
  {
   "metadata": {
    "ExecuteTime": {
     "end_time": "2024-09-22T02:27:44.615396Z",
     "start_time": "2024-09-22T02:27:44.610411Z"
    }
   },
   "cell_type": "code",
   "source": [
    "from sentence_transformers import SentenceTransformer,util\n",
    "import os\n",
    "import json\n",
    "import gzip"
   ],
   "id": "e56ec3a9dfc08030",
   "outputs": [],
   "execution_count": 16
  },
  {
   "metadata": {
    "ExecuteTime": {
     "end_time": "2024-09-22T02:29:55.330954Z",
     "start_time": "2024-09-22T02:27:45.552339Z"
    }
   },
   "cell_type": "code",
   "source": "util.http_get('https://public.ukp.informatik.tu-darmstadt.de/reimers/sentence-transformers/datasets/simplewiki-2020-11-01.jsonl.gz', 'simplewiki-2020-11-01.jsonl.gz')",
   "id": "b86ac12ecd1059c7",
   "outputs": [
    {
     "data": {
      "text/plain": [
       "  0%|          | 0.00/50.2M [00:00<?, ?B/s]"
      ],
      "application/vnd.jupyter.widget-view+json": {
       "version_major": 2,
       "version_minor": 0,
       "model_id": "7a304d4506cd44498533b4e46db858e5"
      }
     },
     "metadata": {},
     "output_type": "display_data"
    }
   ],
   "execution_count": 17
  },
  {
   "metadata": {
    "ExecuteTime": {
     "end_time": "2024-09-22T02:30:49.196031Z",
     "start_time": "2024-09-22T02:30:44.580451Z"
    }
   },
   "cell_type": "code",
   "source": "model = SentenceTransformer('nq-distilbert-base-v1')",
   "id": "a642fd951ed420eb",
   "outputs": [],
   "execution_count": 18
  },
  {
   "metadata": {
    "ExecuteTime": {
     "end_time": "2024-09-22T02:33:53.294948Z",
     "start_time": "2024-09-22T02:33:49.894215Z"
    }
   },
   "cell_type": "code",
   "source": [
    "passage = []\n",
    "with gzip.open('simplewiki-2020-11-01.jsonl.gz', 'rt', encoding='utf8') as f:\n",
    "    for line in f:\n",
    "        data = json.loads(line.strip())\n",
    "        for para in data['paragraphs']:\n",
    "            passage.append([data['title'], para])"
   ],
   "id": "5703714dccbac413",
   "outputs": [],
   "execution_count": 19
  },
  {
   "metadata": {
    "ExecuteTime": {
     "end_time": "2024-09-22T02:33:55.336578Z",
     "start_time": "2024-09-22T02:33:55.331062Z"
    }
   },
   "cell_type": "code",
   "source": "len(passage)",
   "id": "5fde2071908177ed",
   "outputs": [
    {
     "data": {
      "text/plain": [
       "509663"
      ]
     },
     "execution_count": 20,
     "metadata": {},
     "output_type": "execute_result"
    }
   ],
   "execution_count": 20
  },
  {
   "metadata": {
    "ExecuteTime": {
     "end_time": "2024-09-22T02:37:28.311476Z",
     "start_time": "2024-09-22T02:37:27.979282Z"
    }
   },
   "cell_type": "code",
   "source": [
    "from random import shuffle\n",
    "shuffle(passage)"
   ],
   "id": "8c66db01947ef5a",
   "outputs": [],
   "execution_count": 22
  },
  {
   "metadata": {
    "ExecuteTime": {
     "end_time": "2024-09-22T03:39:56.581062Z",
     "start_time": "2024-09-22T03:39:56.568951Z"
    }
   },
   "cell_type": "code",
   "source": "passage = passage[:509663]",
   "id": "b27400027f26c5e7",
   "outputs": [],
   "execution_count": 25
  },
  {
   "metadata": {
    "ExecuteTime": {
     "end_time": "2024-09-22T05:19:17.897600Z",
     "start_time": "2024-09-22T04:21:43.568713Z"
    }
   },
   "cell_type": "code",
   "source": "corpus_embeddings = model.encode(passage, convert_to_tensor=True, show_progress_bar=True)",
   "id": "5b6d07574a560d50",
   "outputs": [
    {
     "data": {
      "text/plain": [
       "Batches:   0%|          | 0/3125 [00:00<?, ?it/s]"
      ],
      "application/vnd.jupyter.widget-view+json": {
       "version_major": 2,
       "version_minor": 0,
       "model_id": "f0d5149a1879497f8c9232751b6d8255"
      }
     },
     "metadata": {},
     "output_type": "display_data"
    }
   ],
   "execution_count": 27
  },
  {
   "metadata": {
    "ExecuteTime": {
     "end_time": "2024-09-22T05:59:01.125085Z",
     "start_time": "2024-09-22T05:59:01.120121Z"
    }
   },
   "cell_type": "code",
   "source": [
    "def get_answer(query):\n",
    "    \n",
    "    question_embeddings = model.encode(query, convert_to_tensor=True)\n",
    "    hits = util.semantic_search(question_embeddings, corpus_embeddings, top_k=5)[0]\n",
    "    \n",
    "    print(\"Results: \")\n",
    "    \n",
    "    for hit in hits:\n",
    "        print(passage[hit['corpus_id']])\n",
    "        print('\\n\\n\\n')\n",
    "        "
   ],
   "id": "14ce1706bbdb9004",
   "outputs": [],
   "execution_count": 30
  },
  {
   "metadata": {
    "ExecuteTime": {
     "end_time": "2024-09-22T05:59:02.292327Z",
     "start_time": "2024-09-22T05:59:02.193762Z"
    }
   },
   "cell_type": "code",
   "source": "get_answer('what is the capital of Japan?')",
   "id": "12d14371aff1d6a0",
   "outputs": [
    {
     "name": "stdout",
     "output_type": "stream",
     "text": [
      "Results: \n",
      "['Capital of Japan', \"After World War II, the new Constitution of Japan transferred the state's sovereignty from the Emperor to the people. The people of Japan are represented by the Diet of Japan in Tokyo. Consensus considers the site of the Diet is the capital of Japan.\"]\n",
      "\n",
      "\n",
      "\n",
      "\n",
      "['Sagamihara, Kanagawa', 'Sagamihara (, Sagamihara-shi?) is a city in Japan. It is in north central Kanagawa Prefecture, bordering Tokyo, Japan. It is the third most populous city in the prefecture, after Yokohama and Kawasaki.']\n",
      "\n",
      "\n",
      "\n",
      "\n",
      "['Yokohama', 'Yokohama is the capital of Kanagawa Prefecture in the Kantō region. Yokohama is a neighbor city of Tokyo. It has been the second largest city of Japan since the 1980s.']\n",
      "\n",
      "\n",
      "\n",
      "\n",
      "['Hiroshima', 'Hiroshima (広島) is the capital city of Hiroshima Prefecture. It is the largest city in the Chugoku region of western Japan. About a million people live in Hiroshima.']\n",
      "\n",
      "\n",
      "\n",
      "\n",
      "['Matsue, Shimane', 'Matsue (松江) is a city in Japan on the Japan Sea coast. It is the capital of Shimane Prefecture. It is known for its historic castle and as the home of Lafcadio Hearn.']\n",
      "\n",
      "\n",
      "\n",
      "\n"
     ]
    }
   ],
   "execution_count": 31
  },
  {
   "metadata": {},
   "cell_type": "code",
   "outputs": [],
   "execution_count": null,
   "source": "",
   "id": "c1ecc9e9aedf0d26"
  }
 ],
 "metadata": {
  "kernelspec": {
   "display_name": "Python 3",
   "language": "python",
   "name": "python3"
  },
  "language_info": {
   "codemirror_mode": {
    "name": "ipython",
    "version": 2
   },
   "file_extension": ".py",
   "mimetype": "text/x-python",
   "name": "python",
   "nbconvert_exporter": "python",
   "pygments_lexer": "ipython2",
   "version": "2.7.6"
  }
 },
 "nbformat": 4,
 "nbformat_minor": 5
}
