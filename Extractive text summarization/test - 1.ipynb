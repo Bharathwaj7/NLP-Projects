{
 "cells": [
  {
   "cell_type": "code",
   "id": "initial_id",
   "metadata": {
    "collapsed": true,
    "ExecuteTime": {
     "end_time": "2024-09-21T15:14:12.311872Z",
     "start_time": "2024-09-21T15:14:12.306990Z"
    }
   },
   "source": "from sentence_transformers import SentenceTransformer, util",
   "outputs": [],
   "execution_count": 71
  },
  {
   "metadata": {
    "ExecuteTime": {
     "end_time": "2024-09-21T12:20:35.478089Z",
     "start_time": "2024-09-21T12:20:35.468472Z"
    }
   },
   "cell_type": "code",
   "source": "from LexRank import degree_centrality_scores",
   "id": "110f9aab13ed65c0",
   "outputs": [],
   "execution_count": 43
  },
  {
   "metadata": {
    "ExecuteTime": {
     "end_time": "2024-09-21T14:58:31.931279Z",
     "start_time": "2024-09-21T14:58:31.668381Z"
    }
   },
   "cell_type": "code",
   "source": [
    "import nltk\n",
    "nltk.download('punkt')"
   ],
   "id": "24a2bcff33de4093",
   "outputs": [
    {
     "name": "stderr",
     "output_type": "stream",
     "text": [
      "[nltk_data] Downloading package punkt to\n",
      "[nltk_data]     C:\\Users\\bhara\\AppData\\Roaming\\nltk_data...\n",
      "[nltk_data]   Package punkt is already up-to-date!\n"
     ]
    },
    {
     "data": {
      "text/plain": [
       "True"
      ]
     },
     "execution_count": 49,
     "metadata": {},
     "output_type": "execute_result"
    }
   ],
   "execution_count": 49
  },
  {
   "metadata": {
    "ExecuteTime": {
     "end_time": "2024-09-21T14:58:37.311120Z",
     "start_time": "2024-09-21T14:58:33.658939Z"
    }
   },
   "cell_type": "code",
   "source": "model = SentenceTransformer('all-MiniLM-L6-v2')",
   "id": "2f0b17fcef7eacfc",
   "outputs": [],
   "execution_count": 50
  },
  {
   "metadata": {
    "ExecuteTime": {
     "end_time": "2024-09-21T15:17:36.169009Z",
     "start_time": "2024-09-21T15:17:36.162212Z"
    }
   },
   "cell_type": "code",
   "source": [
    "doc = \"\"\"Nazism’s roots lay in the tradition of Prussian militarism and discipline and German Romanticism, which celebrated a mythic past and proclaimed the rights of the exceptional individual over all rules and laws.\n",
    "\n",
    "Nazism’s ideology was shaped by Hitler’s beliefs in German racial superiority and the dangers of communism. It rejected liberalism, democracy, the rule of law, and human rights, stressing instead the subordination of the individual to the state and the necessity of strict obedience to leaders. It emphasized the inequality of individuals and “races” and the right of the strong to rule the weak.\n",
    "\n",
    "Politically, Nazism favoured rearmament, reunification of the German areas of Europe, expansion into non-German areas, and the purging of “undesirables,” especially the Jewish people.\"\"\""
   ],
   "id": "b44bb64de9f57d33",
   "outputs": [],
   "execution_count": 74
  },
  {
   "metadata": {
    "ExecuteTime": {
     "end_time": "2024-09-21T15:17:37.060810Z",
     "start_time": "2024-09-21T15:17:37.056772Z"
    }
   },
   "cell_type": "code",
   "source": "sentences = nltk.sent_tokenize(doc)",
   "id": "6cf002a627fa829d",
   "outputs": [],
   "execution_count": 75
  },
  {
   "metadata": {
    "ExecuteTime": {
     "end_time": "2024-09-21T15:17:38.745222Z",
     "start_time": "2024-09-21T15:17:38.691434Z"
    }
   },
   "cell_type": "code",
   "source": "embeddings = model.encode(sentences, convert_to_tensor=True)",
   "id": "3c0f091343ab3ddb",
   "outputs": [],
   "execution_count": 76
  },
  {
   "metadata": {
    "ExecuteTime": {
     "end_time": "2024-09-21T15:17:40.121028Z",
     "start_time": "2024-09-21T15:17:40.116007Z"
    }
   },
   "cell_type": "code",
   "source": "cos_score = util.cos_sim(embeddings, embeddings).cpu().numpy()",
   "id": "4c19efe22fa98639",
   "outputs": [],
   "execution_count": 77
  },
  {
   "metadata": {
    "ExecuteTime": {
     "end_time": "2024-09-21T15:17:57.098007Z",
     "start_time": "2024-09-21T15:17:57.068059Z"
    }
   },
   "cell_type": "code",
   "source": "centrality_score = degree_centrality_scores(cos_score, threshold=None)",
   "id": "39e7b6cdde5aa358",
   "outputs": [],
   "execution_count": 78
  },
  {
   "metadata": {
    "ExecuteTime": {
     "end_time": "2024-09-21T15:19:45.500098Z",
     "start_time": "2024-09-21T15:19:45.496032Z"
    }
   },
   "cell_type": "code",
   "source": [
    "import numpy as np\n",
    "most_centrality_sentence_indices = np.argsort(-centrality_score)"
   ],
   "id": "788b6b4fecc8d420",
   "outputs": [],
   "execution_count": 84
  },
  {
   "metadata": {
    "ExecuteTime": {
     "end_time": "2024-09-21T15:19:46.177067Z",
     "start_time": "2024-09-21T15:19:46.170812Z"
    }
   },
   "cell_type": "code",
   "source": "most_centrality_sentence_indices",
   "id": "dd13aed3b59c3e3c",
   "outputs": [
    {
     "data": {
      "text/plain": [
       "array([1, 4, 0, 2, 3], dtype=int64)"
      ]
     },
     "execution_count": 85,
     "metadata": {},
     "output_type": "execute_result"
    }
   ],
   "execution_count": 85
  },
  {
   "metadata": {
    "ExecuteTime": {
     "end_time": "2024-09-21T15:20:27.748800Z",
     "start_time": "2024-09-21T15:20:27.742975Z"
    }
   },
   "cell_type": "code",
   "source": [
    "for id in most_centrality_sentence_indices:\n",
    "    print(sentences[id].strip())"
   ],
   "id": "ca67458d22642aa5",
   "outputs": [
    {
     "name": "stdout",
     "output_type": "stream",
     "text": [
      "Nazism’s ideology was shaped by Hitler’s beliefs in German racial superiority and the dangers of communism.\n",
      "Politically, Nazism favoured rearmament, reunification of the German areas of Europe, expansion into non-German areas, and the purging of “undesirables,” especially the Jewish people.\n",
      "Nazism’s roots lay in the tradition of Prussian militarism and discipline and German Romanticism, which celebrated a mythic past and proclaimed the rights of the exceptional individual over all rules and laws.\n",
      "It rejected liberalism, democracy, the rule of law, and human rights, stressing instead the subordination of the individual to the state and the necessity of strict obedience to leaders.\n",
      "It emphasized the inequality of individuals and “races” and the right of the strong to rule the weak.\n"
     ]
    }
   ],
   "execution_count": 87
  },
  {
   "metadata": {},
   "cell_type": "code",
   "outputs": [],
   "execution_count": null,
   "source": "",
   "id": "31018393e635f45a"
  }
 ],
 "metadata": {
  "kernelspec": {
   "display_name": "Python 3",
   "language": "python",
   "name": "python3"
  },
  "language_info": {
   "codemirror_mode": {
    "name": "ipython",
    "version": 2
   },
   "file_extension": ".py",
   "mimetype": "text/x-python",
   "name": "python",
   "nbconvert_exporter": "python",
   "pygments_lexer": "ipython2",
   "version": "2.7.6"
  }
 },
 "nbformat": 4,
 "nbformat_minor": 5
}
