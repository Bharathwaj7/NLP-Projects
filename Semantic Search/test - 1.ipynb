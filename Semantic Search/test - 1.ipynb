{
 "cells": [
  {
   "cell_type": "code",
   "id": "initial_id",
   "metadata": {
    "collapsed": true,
    "ExecuteTime": {
     "end_time": "2024-09-20T02:55:07.383272Z",
     "start_time": "2024-09-20T02:55:07.378752Z"
    }
   },
   "source": [
    "from sentence_transformers import SentenceTransformer,util\n",
    "import torch"
   ],
   "outputs": [],
   "execution_count": 24
  },
  {
   "metadata": {
    "ExecuteTime": {
     "end_time": "2024-09-20T02:57:23.078171Z",
     "start_time": "2024-09-20T02:56:42.284305Z"
    }
   },
   "cell_type": "code",
   "source": "model = SentenceTransformer('multi-qa-MiniLM-L6-cos-v1')",
   "id": "5f0a41e19a3172ee",
   "outputs": [
    {
     "data": {
      "text/plain": [
       "modules.json:   0%|          | 0.00/349 [00:00<?, ?B/s]"
      ],
      "application/vnd.jupyter.widget-view+json": {
       "version_major": 2,
       "version_minor": 0,
       "model_id": "a088a8f222a14b98a79e886907f9c722"
      }
     },
     "metadata": {},
     "output_type": "display_data"
    },
    {
     "name": "stderr",
     "output_type": "stream",
     "text": [
      "C:\\Users\\bhara\\anaconda3\\Lib\\site-packages\\huggingface_hub\\file_download.py:147: UserWarning: `huggingface_hub` cache-system uses symlinks by default to efficiently store duplicated files but your machine does not support them in C:\\Users\\bhara\\.cache\\huggingface\\hub\\models--sentence-transformers--multi-qa-MiniLM-L6-cos-v1. Caching files will still work but in a degraded version that might require more space on your disk. This warning can be disabled by setting the `HF_HUB_DISABLE_SYMLINKS_WARNING` environment variable. For more details, see https://huggingface.co/docs/huggingface_hub/how-to-cache#limitations.\n",
      "To support symlinks on Windows, you either need to activate Developer Mode or to run Python as an administrator. In order to activate developer mode, see this article: https://docs.microsoft.com/en-us/windows/apps/get-started/enable-your-device-for-development\n",
      "  warnings.warn(message)\n"
     ]
    },
    {
     "data": {
      "text/plain": [
       "config_sentence_transformers.json:   0%|          | 0.00/116 [00:00<?, ?B/s]"
      ],
      "application/vnd.jupyter.widget-view+json": {
       "version_major": 2,
       "version_minor": 0,
       "model_id": "2d6b3302747c4405a1ed1e85d148f92a"
      }
     },
     "metadata": {},
     "output_type": "display_data"
    },
    {
     "data": {
      "text/plain": [
       "README.md:   0%|          | 0.00/11.6k [00:00<?, ?B/s]"
      ],
      "application/vnd.jupyter.widget-view+json": {
       "version_major": 2,
       "version_minor": 0,
       "model_id": "7f57b7b5a1fc4e36bebbf87c5a6bd0f8"
      }
     },
     "metadata": {},
     "output_type": "display_data"
    },
    {
     "data": {
      "text/plain": [
       "sentence_bert_config.json:   0%|          | 0.00/53.0 [00:00<?, ?B/s]"
      ],
      "application/vnd.jupyter.widget-view+json": {
       "version_major": 2,
       "version_minor": 0,
       "model_id": "0db45fbd46d44f9eb683d4d37b041d78"
      }
     },
     "metadata": {},
     "output_type": "display_data"
    },
    {
     "data": {
      "text/plain": [
       "config.json:   0%|          | 0.00/612 [00:00<?, ?B/s]"
      ],
      "application/vnd.jupyter.widget-view+json": {
       "version_major": 2,
       "version_minor": 0,
       "model_id": "1d7f2d3c23744721ae0a2b224a34d969"
      }
     },
     "metadata": {},
     "output_type": "display_data"
    },
    {
     "data": {
      "text/plain": [
       "model.safetensors:   0%|          | 0.00/90.9M [00:00<?, ?B/s]"
      ],
      "application/vnd.jupyter.widget-view+json": {
       "version_major": 2,
       "version_minor": 0,
       "model_id": "b722cd1866504480979984e8e725c1d8"
      }
     },
     "metadata": {},
     "output_type": "display_data"
    },
    {
     "data": {
      "text/plain": [
       "tokenizer_config.json:   0%|          | 0.00/383 [00:00<?, ?B/s]"
      ],
      "application/vnd.jupyter.widget-view+json": {
       "version_major": 2,
       "version_minor": 0,
       "model_id": "21d0c32a79fb4522a7dce486a71b0529"
      }
     },
     "metadata": {},
     "output_type": "display_data"
    },
    {
     "data": {
      "text/plain": [
       "vocab.txt:   0%|          | 0.00/232k [00:00<?, ?B/s]"
      ],
      "application/vnd.jupyter.widget-view+json": {
       "version_major": 2,
       "version_minor": 0,
       "model_id": "d089a9e50d9a42a28112070d38a5a0da"
      }
     },
     "metadata": {},
     "output_type": "display_data"
    },
    {
     "data": {
      "text/plain": [
       "tokenizer.json:   0%|          | 0.00/466k [00:00<?, ?B/s]"
      ],
      "application/vnd.jupyter.widget-view+json": {
       "version_major": 2,
       "version_minor": 0,
       "model_id": "6ce341bd6cb04595bcd9c707dc6c8eb8"
      }
     },
     "metadata": {},
     "output_type": "display_data"
    },
    {
     "data": {
      "text/plain": [
       "special_tokens_map.json:   0%|          | 0.00/112 [00:00<?, ?B/s]"
      ],
      "application/vnd.jupyter.widget-view+json": {
       "version_major": 2,
       "version_minor": 0,
       "model_id": "3267b5e85f3a491da599195617b4d35e"
      }
     },
     "metadata": {},
     "output_type": "display_data"
    },
    {
     "data": {
      "text/plain": [
       "1_Pooling/config.json:   0%|          | 0.00/190 [00:00<?, ?B/s]"
      ],
      "application/vnd.jupyter.widget-view+json": {
       "version_major": 2,
       "version_minor": 0,
       "model_id": "667a3bbdd0d54586a52a05fe9d44d5b4"
      }
     },
     "metadata": {},
     "output_type": "display_data"
    }
   ],
   "execution_count": 26
  },
  {
   "metadata": {
    "ExecuteTime": {
     "end_time": "2024-09-20T02:59:29.636946Z",
     "start_time": "2024-09-20T02:59:29.631372Z"
    }
   },
   "cell_type": "code",
   "source": "import requests",
   "id": "6a920c85c631d902",
   "outputs": [],
   "execution_count": 27
  },
  {
   "metadata": {
    "ExecuteTime": {
     "end_time": "2024-09-20T03:01:21.792053Z",
     "start_time": "2024-09-20T03:01:21.724118Z"
    }
   },
   "cell_type": "code",
   "source": [
    "response = requests.get('https://raw.githubusercontent.com/laxmimerit/machine-learning-dataset/refs/heads/master/text-dataset-for-machine-learning/sbert-corpus.txt')\n",
    "corpus = response.text.split('\\r\\n')\n",
    "\n",
    "response = requests.get('https://raw.githubusercontent.com/laxmimerit/machine-learning-dataset/refs/heads/master/text-dataset-for-machine-learning/sbert-queries.txt')\n",
    "queries = response.text.split('\\r\\n')"
   ],
   "id": "ced662cf295d4c80",
   "outputs": [],
   "execution_count": 28
  },
  {
   "metadata": {
    "ExecuteTime": {
     "end_time": "2024-09-20T03:01:49.709014Z",
     "start_time": "2024-09-20T03:01:49.703319Z"
    }
   },
   "cell_type": "code",
   "source": "print(corpus)",
   "id": "80ff9d1becd079e9",
   "outputs": [
    {
     "name": "stdout",
     "output_type": "stream",
     "text": [
      "['A man is eating food.', 'A man is eating a piece of bread.', 'A man is eating pasta.', 'The girl is carrying a baby.', 'The baby is carried by the woman', 'A man is riding a horse.', 'A man is riding a white horse on an enclosed ground.', 'A monkey is playing drums.', 'Someone in a gorilla costume is playing a set of drums.', 'A cheetah is running behind its prey.', 'A cheetah chases prey on across a field.']\n"
     ]
    }
   ],
   "execution_count": 31
  },
  {
   "metadata": {
    "ExecuteTime": {
     "end_time": "2024-09-20T03:01:58.645795Z",
     "start_time": "2024-09-20T03:01:58.640326Z"
    }
   },
   "cell_type": "code",
   "source": "print(queries)\n",
   "id": "948f888b6b5781c5",
   "outputs": [
    {
     "name": "stdout",
     "output_type": "stream",
     "text": [
      "['A man is eating pasta.', 'Someone in a gorilla costume is playing a set of drums.', 'A cheetah chases prey on across a field.']\n"
     ]
    }
   ],
   "execution_count": 32
  },
  {
   "metadata": {
    "ExecuteTime": {
     "end_time": "2024-09-20T03:02:28.967416Z",
     "start_time": "2024-09-20T03:02:28.903767Z"
    }
   },
   "cell_type": "code",
   "source": "corpus_embed = model.encode(corpus , convert_to_tensor=True)",
   "id": "f59bda570e35e624",
   "outputs": [],
   "execution_count": 33
  },
  {
   "metadata": {
    "ExecuteTime": {
     "end_time": "2024-09-20T03:02:42.017604Z",
     "start_time": "2024-09-20T03:02:41.988712Z"
    }
   },
   "cell_type": "code",
   "source": "queries_embed = model.encode(queries , convert_to_tensor=True)",
   "id": "a07d48a89cc108a2",
   "outputs": [],
   "execution_count": 34
  },
  {
   "metadata": {
    "ExecuteTime": {
     "end_time": "2024-09-20T03:05:36.359315Z",
     "start_time": "2024-09-20T03:05:36.353248Z"
    }
   },
   "cell_type": "code",
   "source": "corpus_embeb_norm = util.normalize_embeddings(corpus_embed)",
   "id": "16113a5abcf2485c",
   "outputs": [],
   "execution_count": 35
  },
  {
   "metadata": {
    "ExecuteTime": {
     "end_time": "2024-09-20T03:06:49.431539Z",
     "start_time": "2024-09-20T03:06:49.426284Z"
    }
   },
   "cell_type": "code",
   "source": "queries_embeb_norm = util.normalize_embeddings(queries_embed)",
   "id": "cbddfbde283ec77f",
   "outputs": [],
   "execution_count": 39
  },
  {
   "metadata": {
    "ExecuteTime": {
     "end_time": "2024-09-20T03:36:16.617607Z",
     "start_time": "2024-09-20T03:36:16.613166Z"
    }
   },
   "cell_type": "code",
   "source": "hits = util.semantic_search(queries_embeb_norm, corpus_embeb_norm, score_function=util.dot_score,top_k=3)",
   "id": "69b01c6e9cca49ab",
   "outputs": [],
   "execution_count": 43
  },
  {
   "metadata": {
    "ExecuteTime": {
     "end_time": "2024-09-20T03:36:17.657200Z",
     "start_time": "2024-09-20T03:36:17.650631Z"
    }
   },
   "cell_type": "code",
   "source": "hits",
   "id": "37d7a8d2ea21c1a7",
   "outputs": [
    {
     "data": {
      "text/plain": [
       "[[{'corpus_id': 2, 'score': 1.0},\n",
       "  {'corpus_id': 0, 'score': 0.8384665846824646},\n",
       "  {'corpus_id': 1, 'score': 0.7468276023864746}],\n",
       " [{'corpus_id': 8, 'score': 0.9999999403953552},\n",
       "  {'corpus_id': 7, 'score': 0.7612735033035278},\n",
       "  {'corpus_id': 3, 'score': 0.3815288543701172}],\n",
       " [{'corpus_id': 10, 'score': 1.000000238418579},\n",
       "  {'corpus_id': 9, 'score': 0.8703994750976562},\n",
       "  {'corpus_id': 6, 'score': 0.37411704659461975}]]"
      ]
     },
     "execution_count": 44,
     "metadata": {},
     "output_type": "execute_result"
    }
   ],
   "execution_count": 44
  },
  {
   "metadata": {
    "ExecuteTime": {
     "end_time": "2024-09-20T03:48:01.512093Z",
     "start_time": "2024-09-20T03:48:01.493219Z"
    }
   },
   "cell_type": "code",
   "source": [
    "for query, hit in zip(queries, hits):\n",
    "    for q_hit in hit:\n",
    "        id = q_hit['corpus_id']\n",
    "        score = q_hit['score']\n",
    "        print(query,' <> ' , corpus[id]  , ' --> ' ,score)"
   ],
   "id": "a5944c64f8985c64",
   "outputs": [
    {
     "name": "stdout",
     "output_type": "stream",
     "text": [
      "A man is eating pasta.  <>  A man is eating pasta.  -->  1.0\n",
      "A man is eating pasta.  <>  A man is eating food.  -->  0.8384665846824646\n",
      "A man is eating pasta.  <>  A man is eating a piece of bread.  -->  0.7468276023864746\n",
      "Someone in a gorilla costume is playing a set of drums.  <>  Someone in a gorilla costume is playing a set of drums.  -->  0.9999999403953552\n",
      "Someone in a gorilla costume is playing a set of drums.  <>  A monkey is playing drums.  -->  0.7612735033035278\n",
      "Someone in a gorilla costume is playing a set of drums.  <>  The girl is carrying a baby.  -->  0.3815288543701172\n",
      "A cheetah chases prey on across a field.  <>  A cheetah chases prey on across a field.  -->  1.000000238418579\n",
      "A cheetah chases prey on across a field.  <>  A cheetah is running behind its prey.  -->  0.8703994750976562\n",
      "A cheetah chases prey on across a field.  <>  A man is riding a white horse on an enclosed ground.  -->  0.37411704659461975\n"
     ]
    }
   ],
   "execution_count": 52
  },
  {
   "metadata": {},
   "cell_type": "code",
   "outputs": [],
   "execution_count": null,
   "source": " ",
   "id": "d1866eadb1f798d6"
  }
 ],
 "metadata": {
  "kernelspec": {
   "display_name": "Python 3",
   "language": "python",
   "name": "python3"
  },
  "language_info": {
   "codemirror_mode": {
    "name": "ipython",
    "version": 2
   },
   "file_extension": ".py",
   "mimetype": "text/x-python",
   "name": "python",
   "nbconvert_exporter": "python",
   "pygments_lexer": "ipython2",
   "version": "2.7.6"
  }
 },
 "nbformat": 4,
 "nbformat_minor": 5
}
