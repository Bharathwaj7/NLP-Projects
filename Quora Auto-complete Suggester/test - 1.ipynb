{
 "cells": [
  {
   "cell_type": "code",
   "id": "initial_id",
   "metadata": {
    "collapsed": true,
    "ExecuteTime": {
     "end_time": "2024-09-20T11:41:37.586022Z",
     "start_time": "2024-09-20T11:41:27.329218Z"
    }
   },
   "source": [
    "!pip install torch torchvision torchaudio --extra-index-url https://download.pytorch.org/whl/cu113\n",
    "!pip install -U sentence-transformers"
   ],
   "outputs": [
    {
     "name": "stdout",
     "output_type": "stream",
     "text": [
      "Looking in indexes: https://pypi.org/simple, https://download.pytorch.org/whl/cu113\n",
      "Requirement already satisfied: torch in c:\\users\\bhara\\anaconda3\\lib\\site-packages (2.4.0)\n",
      "Requirement already satisfied: torchvision in c:\\users\\bhara\\anaconda3\\lib\\site-packages (0.19.0)\n",
      "Requirement already satisfied: torchaudio in c:\\users\\bhara\\anaconda3\\lib\\site-packages (2.4.0)\n",
      "Requirement already satisfied: filelock in c:\\users\\bhara\\appdata\\roaming\\python\\python311\\site-packages (from torch) (3.12.4)\n",
      "Requirement already satisfied: typing-extensions>=4.8.0 in c:\\users\\bhara\\appdata\\roaming\\python\\python311\\site-packages (from torch) (4.8.0)\n",
      "Requirement already satisfied: sympy in c:\\users\\bhara\\appdata\\roaming\\python\\python311\\site-packages (from torch) (1.12)\n",
      "Requirement already satisfied: networkx in c:\\users\\bhara\\anaconda3\\lib\\site-packages (from torch) (3.3)\n",
      "Requirement already satisfied: jinja2 in c:\\users\\bhara\\appdata\\roaming\\python\\python311\\site-packages (from torch) (3.1.2)\n",
      "Requirement already satisfied: fsspec in c:\\users\\bhara\\appdata\\roaming\\python\\python311\\site-packages (from torch) (2023.9.2)\n",
      "Requirement already satisfied: numpy in c:\\users\\bhara\\appdata\\roaming\\python\\python311\\site-packages (from torchvision) (1.26.0)\n",
      "Requirement already satisfied: pillow!=8.3.*,>=5.3.0 in c:\\users\\bhara\\appdata\\roaming\\python\\python311\\site-packages (from torchvision) (10.0.1)\n",
      "Requirement already satisfied: MarkupSafe>=2.0 in c:\\users\\bhara\\appdata\\roaming\\python\\python311\\site-packages (from jinja2->torch) (2.1.3)\n",
      "Requirement already satisfied: mpmath>=0.19 in c:\\users\\bhara\\appdata\\roaming\\python\\python311\\site-packages (from sympy->torch) (1.3.0)\n",
      "Requirement already satisfied: sentence-transformers in c:\\users\\bhara\\anaconda3\\lib\\site-packages (3.1.1)\n",
      "Requirement already satisfied: transformers<5.0.0,>=4.38.0 in c:\\users\\bhara\\anaconda3\\lib\\site-packages (from sentence-transformers) (4.44.2)\n",
      "Requirement already satisfied: tqdm in c:\\users\\bhara\\appdata\\roaming\\python\\python311\\site-packages (from sentence-transformers) (4.66.1)\n",
      "Requirement already satisfied: torch>=1.11.0 in c:\\users\\bhara\\anaconda3\\lib\\site-packages (from sentence-transformers) (2.4.0)\n",
      "Requirement already satisfied: scikit-learn in c:\\users\\bhara\\appdata\\roaming\\python\\python311\\site-packages (from sentence-transformers) (1.4.2)\n",
      "Requirement already satisfied: scipy in c:\\users\\bhara\\appdata\\roaming\\python\\python311\\site-packages (from sentence-transformers) (1.13.0)\n",
      "Requirement already satisfied: huggingface-hub>=0.19.3 in c:\\users\\bhara\\anaconda3\\lib\\site-packages (from sentence-transformers) (0.25.0)\n",
      "Requirement already satisfied: Pillow in c:\\users\\bhara\\appdata\\roaming\\python\\python311\\site-packages (from sentence-transformers) (10.0.1)\n",
      "Requirement already satisfied: filelock in c:\\users\\bhara\\appdata\\roaming\\python\\python311\\site-packages (from huggingface-hub>=0.19.3->sentence-transformers) (3.12.4)\n",
      "Requirement already satisfied: fsspec>=2023.5.0 in c:\\users\\bhara\\appdata\\roaming\\python\\python311\\site-packages (from huggingface-hub>=0.19.3->sentence-transformers) (2023.9.2)\n",
      "Requirement already satisfied: packaging>=20.9 in c:\\users\\bhara\\appdata\\roaming\\python\\python311\\site-packages (from huggingface-hub>=0.19.3->sentence-transformers) (23.2)\n",
      "Requirement already satisfied: pyyaml>=5.1 in c:\\users\\bhara\\appdata\\roaming\\python\\python311\\site-packages (from huggingface-hub>=0.19.3->sentence-transformers) (6.0.1)\n",
      "Requirement already satisfied: requests in c:\\users\\bhara\\anaconda3\\lib\\site-packages (from huggingface-hub>=0.19.3->sentence-transformers) (2.32.3)\n",
      "Requirement already satisfied: typing-extensions>=3.7.4.3 in c:\\users\\bhara\\appdata\\roaming\\python\\python311\\site-packages (from huggingface-hub>=0.19.3->sentence-transformers) (4.8.0)\n",
      "Requirement already satisfied: sympy in c:\\users\\bhara\\appdata\\roaming\\python\\python311\\site-packages (from torch>=1.11.0->sentence-transformers) (1.12)\n",
      "Requirement already satisfied: networkx in c:\\users\\bhara\\anaconda3\\lib\\site-packages (from torch>=1.11.0->sentence-transformers) (3.3)\n",
      "Requirement already satisfied: jinja2 in c:\\users\\bhara\\appdata\\roaming\\python\\python311\\site-packages (from torch>=1.11.0->sentence-transformers) (3.1.2)\n",
      "Requirement already satisfied: colorama in c:\\users\\bhara\\appdata\\roaming\\python\\python311\\site-packages (from tqdm->sentence-transformers) (0.4.6)\n",
      "Requirement already satisfied: numpy>=1.17 in c:\\users\\bhara\\appdata\\roaming\\python\\python311\\site-packages (from transformers<5.0.0,>=4.38.0->sentence-transformers) (1.26.0)\n",
      "Requirement already satisfied: regex!=2019.12.17 in c:\\users\\bhara\\appdata\\roaming\\python\\python311\\site-packages (from transformers<5.0.0,>=4.38.0->sentence-transformers) (2023.8.8)\n",
      "Requirement already satisfied: safetensors>=0.4.1 in c:\\users\\bhara\\anaconda3\\lib\\site-packages (from transformers<5.0.0,>=4.38.0->sentence-transformers) (0.4.5)\n",
      "Requirement already satisfied: tokenizers<0.20,>=0.19 in c:\\users\\bhara\\anaconda3\\lib\\site-packages (from transformers<5.0.0,>=4.38.0->sentence-transformers) (0.19.1)\n",
      "Requirement already satisfied: joblib>=1.2.0 in c:\\users\\bhara\\appdata\\roaming\\python\\python311\\site-packages (from scikit-learn->sentence-transformers) (1.4.0)\n",
      "Requirement already satisfied: threadpoolctl>=2.0.0 in c:\\users\\bhara\\appdata\\roaming\\python\\python311\\site-packages (from scikit-learn->sentence-transformers) (3.4.0)\n",
      "Requirement already satisfied: MarkupSafe>=2.0 in c:\\users\\bhara\\appdata\\roaming\\python\\python311\\site-packages (from jinja2->torch>=1.11.0->sentence-transformers) (2.1.3)\n",
      "Requirement already satisfied: charset-normalizer<4,>=2 in c:\\users\\bhara\\appdata\\roaming\\python\\python311\\site-packages (from requests->huggingface-hub>=0.19.3->sentence-transformers) (3.3.0)\n",
      "Requirement already satisfied: idna<4,>=2.5 in c:\\users\\bhara\\appdata\\roaming\\python\\python311\\site-packages (from requests->huggingface-hub>=0.19.3->sentence-transformers) (2.10)\n",
      "Requirement already satisfied: urllib3<3,>=1.21.1 in c:\\users\\bhara\\appdata\\roaming\\python\\python311\\site-packages (from requests->huggingface-hub>=0.19.3->sentence-transformers) (2.2.2)\n",
      "Requirement already satisfied: certifi>=2017.4.17 in c:\\users\\bhara\\appdata\\roaming\\python\\python311\\site-packages (from requests->huggingface-hub>=0.19.3->sentence-transformers) (2023.7.22)\n",
      "Requirement already satisfied: mpmath>=0.19 in c:\\users\\bhara\\appdata\\roaming\\python\\python311\\site-packages (from sympy->torch>=1.11.0->sentence-transformers) (1.3.0)\n"
     ]
    }
   ],
   "execution_count": 1
  },
  {
   "metadata": {
    "ExecuteTime": {
     "end_time": "2024-09-20T11:55:35.281794Z",
     "start_time": "2024-09-20T11:55:35.277847Z"
    }
   },
   "cell_type": "code",
   "source": [
    "from sentence_transformers import SentenceTransformer,util\n",
    "import torch\n",
    "import os\n",
    "import time\n",
    "import pandas as pd"
   ],
   "id": "9639b4f36b891dcc",
   "outputs": [],
   "execution_count": 12
  },
  {
   "metadata": {
    "ExecuteTime": {
     "end_time": "2024-09-20T11:42:07.480434Z",
     "start_time": "2024-09-20T11:42:07.393526Z"
    }
   },
   "cell_type": "code",
   "source": "df = pd.read_csv('.venv/NPL Projects/K-Means Clustering on text/quora_duplicate_questions.tsv', sep='\\t',nrows=20000)",
   "id": "7b916f2214107cdd",
   "outputs": [],
   "execution_count": 3
  },
  {
   "metadata": {
    "ExecuteTime": {
     "end_time": "2024-09-20T11:42:07.490452Z",
     "start_time": "2024-09-20T11:42:07.482451Z"
    }
   },
   "cell_type": "code",
   "source": "df.shape",
   "id": "8b1a9f4c3b2e5126",
   "outputs": [
    {
     "data": {
      "text/plain": [
       "(20000, 6)"
      ]
     },
     "execution_count": 4,
     "metadata": {},
     "output_type": "execute_result"
    }
   ],
   "execution_count": 4
  },
  {
   "metadata": {
    "ExecuteTime": {
     "end_time": "2024-09-20T11:42:07.508573Z",
     "start_time": "2024-09-20T11:42:07.492576Z"
    }
   },
   "cell_type": "code",
   "source": [
    "corpus_sentence = list(set(df['question1'].tolist() + df['question2'].tolist()))\n",
    "len(corpus_sentence)"
   ],
   "id": "2b38878911bf1725",
   "outputs": [
    {
     "data": {
      "text/plain": [
       "37766"
      ]
     },
     "execution_count": 5,
     "metadata": {},
     "output_type": "execute_result"
    }
   ],
   "execution_count": 5
  },
  {
   "metadata": {
    "ExecuteTime": {
     "end_time": "2024-09-20T11:48:00.722408Z",
     "start_time": "2024-09-20T11:47:56.180674Z"
    }
   },
   "cell_type": "code",
   "source": "model = SentenceTransformer('quora-distilbert-multilingual')",
   "id": "884f60aac08df58f",
   "outputs": [],
   "execution_count": 10
  },
  {
   "metadata": {
    "ExecuteTime": {
     "end_time": "2024-09-20T11:47:56.165673Z",
     "start_time": "2024-09-20T11:42:13.184467Z"
    }
   },
   "cell_type": "code",
   "source": "corpus_embeddings = model.encode(corpus_sentence,show_progress_bar=True,convert_to_tensor=True)",
   "id": "b9f43ed6ee8d5b46",
   "outputs": [
    {
     "data": {
      "text/plain": [
       "Batches:   0%|          | 0/1181 [00:00<?, ?it/s]"
      ],
      "application/vnd.jupyter.widget-view+json": {
       "version_major": 2,
       "version_minor": 0,
       "model_id": "2833de2db4294d2d8f5351cbb1490160"
      }
     },
     "metadata": {},
     "output_type": "display_data"
    }
   ],
   "execution_count": 7
  },
  {
   "metadata": {
    "ExecuteTime": {
     "end_time": "2024-09-20T11:47:56.172301Z",
     "start_time": "2024-09-20T11:47:56.167688Z"
    }
   },
   "cell_type": "code",
   "source": "corpus_embeddings = corpus_embeddings.to(model.device)",
   "id": "4e9e496d7cdccad7",
   "outputs": [],
   "execution_count": 8
  },
  {
   "metadata": {
    "ExecuteTime": {
     "end_time": "2024-09-20T11:56:44.352790Z",
     "start_time": "2024-09-20T11:56:24.520145Z"
    }
   },
   "cell_type": "code",
   "source": [
    "while True:\n",
    "    qurey = input(\"Please enter the Question here: \")\n",
    "    \n",
    "    if qurey == 'n':\n",
    "        break\n",
    "    \n",
    "    question_embedding = model.encode(qurey, convert_to_tensor=True)\n",
    "    hits = util.semantic_search(question_embedding,corpus_embeddings)\n",
    "    hits = hits[0]\n",
    "    print(hits)\n",
    "    \n",
    "    for hit in hits:\n",
    "        print(hit['score'], \" : \", corpus_sentence[hit['corpus_id']])\n",
    "        \n",
    "    print('\\n\\n\\n\\n')"
   ],
   "id": "89eda4df53c50ba1",
   "outputs": [
    {
     "name": "stdout",
     "output_type": "stream",
     "text": [
      "[{'corpus_id': 27301, 'score': 0.9936386346817017}, {'corpus_id': 21503, 'score': 0.9888120889663696}, {'corpus_id': 37691, 'score': 0.9810748100280762}, {'corpus_id': 6298, 'score': 0.9613301753997803}, {'corpus_id': 28723, 'score': 0.9491468667984009}, {'corpus_id': 30846, 'score': 0.9420933723449707}, {'corpus_id': 37229, 'score': 0.9349139928817749}, {'corpus_id': 33547, 'score': 0.9301778674125671}, {'corpus_id': 25556, 'score': 0.9295427203178406}, {'corpus_id': 2881, 'score': 0.9251962900161743}]\n",
      "0.9936386346817017  :  What is best way to learn java?\n",
      "0.9888120889663696  :  How did you learn java?\n",
      "0.9810748100280762  :  How can i learn java programming language?\n",
      "0.9613301753997803  :  How do I learn a computer language like java?\n",
      "0.9491468667984009  :  How to learn MATLAB?\n",
      "0.9420933723449707  :  How do I learn Java internals?\n",
      "0.9349139928817749  :  I want to learn Java but not only syntax but also want to learn how to crack complex problems from where should I take coaching of it in Delhi?\n",
      "0.9301778674125671  :  Should I learn python or Java first?\n",
      "0.9295427203178406  :  What is the best way of learning Node.js?\n",
      "0.9251962900161743  :  How do I learn esql coding?\n",
      "\n",
      "\n",
      "\n",
      "\n",
      "\n",
      "[{'corpus_id': 18073, 'score': 0.918002188205719}, {'corpus_id': 23056, 'score': 0.9137964248657227}, {'corpus_id': 31174, 'score': 0.8507033586502075}, {'corpus_id': 23853, 'score': 0.842697262763977}, {'corpus_id': 16880, 'score': 0.8375182747840881}, {'corpus_id': 29727, 'score': 0.8335266709327698}, {'corpus_id': 13690, 'score': 0.8326456546783447}, {'corpus_id': 3613, 'score': 0.8318594694137573}, {'corpus_id': 29381, 'score': 0.8288288712501526}, {'corpus_id': 22591, 'score': 0.8279918432235718}]\n",
      "0.918002188205719  :  .\n",
      "0.9137964248657227  :  ?\n",
      "0.8507033586502075  :  What does 분위기 mean?\n",
      "0.842697262763977  :  What is TRIM?\n",
      "0.8375182747840881  :  What is here and not there?\n",
      "0.8335266709327698  :  What does this mean?\n",
      "0.8326456546783447  :  Cos nπ value?\n",
      "0.8318594694137573  :  What does 有緣無份 mean?\n",
      "0.8288288712501526  :  What is the full form of etc?\n",
      "0.8279918432235718  :  Full form of I c u?\n",
      "\n",
      "\n",
      "\n",
      "\n",
      "\n",
      "[{'corpus_id': 18073, 'score': 0.918002188205719}, {'corpus_id': 23056, 'score': 0.9137964248657227}, {'corpus_id': 31174, 'score': 0.8507033586502075}, {'corpus_id': 23853, 'score': 0.842697262763977}, {'corpus_id': 16880, 'score': 0.8375182747840881}, {'corpus_id': 29727, 'score': 0.8335266709327698}, {'corpus_id': 13690, 'score': 0.8326456546783447}, {'corpus_id': 3613, 'score': 0.8318594694137573}, {'corpus_id': 29381, 'score': 0.8288288712501526}, {'corpus_id': 22591, 'score': 0.8279918432235718}]\n",
      "0.918002188205719  :  .\n",
      "0.9137964248657227  :  ?\n",
      "0.8507033586502075  :  What does 분위기 mean?\n",
      "0.842697262763977  :  What is TRIM?\n",
      "0.8375182747840881  :  What is here and not there?\n",
      "0.8335266709327698  :  What does this mean?\n",
      "0.8326456546783447  :  Cos nπ value?\n",
      "0.8318594694137573  :  What does 有緣無份 mean?\n",
      "0.8288288712501526  :  What is the full form of etc?\n",
      "0.8279918432235718  :  Full form of I c u?\n",
      "\n",
      "\n",
      "\n",
      "\n",
      "\n",
      "[{'corpus_id': 18073, 'score': 0.918002188205719}, {'corpus_id': 23056, 'score': 0.9137964248657227}, {'corpus_id': 31174, 'score': 0.8507033586502075}, {'corpus_id': 23853, 'score': 0.842697262763977}, {'corpus_id': 16880, 'score': 0.8375182747840881}, {'corpus_id': 29727, 'score': 0.8335266709327698}, {'corpus_id': 13690, 'score': 0.8326456546783447}, {'corpus_id': 3613, 'score': 0.8318594694137573}, {'corpus_id': 29381, 'score': 0.8288288712501526}, {'corpus_id': 22591, 'score': 0.8279918432235718}]\n",
      "0.918002188205719  :  .\n",
      "0.9137964248657227  :  ?\n",
      "0.8507033586502075  :  What does 분위기 mean?\n",
      "0.842697262763977  :  What is TRIM?\n",
      "0.8375182747840881  :  What is here and not there?\n",
      "0.8335266709327698  :  What does this mean?\n",
      "0.8326456546783447  :  Cos nπ value?\n",
      "0.8318594694137573  :  What does 有緣無份 mean?\n",
      "0.8288288712501526  :  What is the full form of etc?\n",
      "0.8279918432235718  :  Full form of I c u?\n",
      "\n",
      "\n",
      "\n",
      "\n",
      "\n"
     ]
    }
   ],
   "execution_count": 15
  },
  {
   "metadata": {},
   "cell_type": "code",
   "outputs": [],
   "execution_count": null,
   "source": "",
   "id": "aae510e972861e4a"
  }
 ],
 "metadata": {
  "kernelspec": {
   "display_name": "Python 3",
   "language": "python",
   "name": "python3"
  },
  "language_info": {
   "codemirror_mode": {
    "name": "ipython",
    "version": 2
   },
   "file_extension": ".py",
   "mimetype": "text/x-python",
   "name": "python",
   "nbconvert_exporter": "python",
   "pygments_lexer": "ipython2",
   "version": "2.7.6"
  }
 },
 "nbformat": 4,
 "nbformat_minor": 5
}
