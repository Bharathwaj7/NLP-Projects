{
 "cells": [
  {
   "metadata": {
    "ExecuteTime": {
     "end_time": "2024-09-18T15:28:22.535465Z",
     "start_time": "2024-09-18T15:28:22.528972Z"
    }
   },
   "cell_type": "code",
   "source": [
    "import pickle\n",
    "import numpy as np\n",
    "import tensorflow as tf\n",
    "from keras.preprocessing.sequence import pad_sequences\n",
    "from keras.layers import Embedding, Input, Activation, Dense, Permute, Dropout, add, dot, concatenate, LSTM\n",
    "from keras.models import Sequential, Model\n",
    "from tensorflow.keras.layers import TextVectorization"
   ],
   "id": "initial_id",
   "outputs": [],
   "execution_count": 110
  },
  {
   "metadata": {
    "ExecuteTime": {
     "end_time": "2024-09-18T15:08:40.381118Z",
     "start_time": "2024-09-18T15:08:40.331363Z"
    }
   },
   "cell_type": "code",
   "source": [
    "with open('.venv/ChatBot (NLP)/train_qa.txt', 'rb') as handle:\n",
    "    train_data = pickle.load(handle)"
   ],
   "id": "bc71a869af8bc1f6",
   "outputs": [],
   "execution_count": 63
  },
  {
   "metadata": {
    "ExecuteTime": {
     "end_time": "2024-09-18T15:08:41.268916Z",
     "start_time": "2024-09-18T15:08:41.260948Z"
    }
   },
   "cell_type": "code",
   "source": [
    "with open('.venv/ChatBot (NLP)/test_qa.txt', 'rb') as handle:\n",
    "    test_data = pickle.load(handle)"
   ],
   "id": "8972c9ddbad30310",
   "outputs": [],
   "execution_count": 64
  },
  {
   "metadata": {
    "ExecuteTime": {
     "end_time": "2024-09-18T15:08:55.350530Z",
     "start_time": "2024-09-18T15:08:55.343927Z"
    }
   },
   "cell_type": "code",
   "source": "all_data = test_data + train_data",
   "id": "895b04c9a95411d0",
   "outputs": [],
   "execution_count": 65
  },
  {
   "metadata": {
    "ExecuteTime": {
     "end_time": "2024-09-18T15:09:10.535788Z",
     "start_time": "2024-09-18T15:09:10.530283Z"
    }
   },
   "cell_type": "code",
   "source": "vocab = set()",
   "id": "2521534748c6e960",
   "outputs": [],
   "execution_count": 66
  },
  {
   "metadata": {
    "ExecuteTime": {
     "end_time": "2024-09-18T15:09:21.357611Z",
     "start_time": "2024-09-18T15:09:21.352873Z"
    }
   },
   "cell_type": "code",
   "source": [
    "train_story_text = []\n",
    "train_question_text = []\n",
    "train_answers = []"
   ],
   "id": "dca999a3c7ad0084",
   "outputs": [],
   "execution_count": 67
  },
  {
   "metadata": {
    "ExecuteTime": {
     "end_time": "2024-09-18T15:09:41.993931Z",
     "start_time": "2024-09-18T15:09:41.936634Z"
    }
   },
   "cell_type": "code",
   "source": [
    "for story, question, answer in all_data:\n",
    "    vocab = vocab.union(set(story))\n",
    "    vocab = vocab.union(set(question))\n",
    "    train_story_text.append(story)\n",
    "    train_question_text.append(question)"
   ],
   "id": "a7e7d451720a3ce",
   "outputs": [],
   "execution_count": 68
  },
  {
   "metadata": {
    "ExecuteTime": {
     "end_time": "2024-09-18T15:09:43.599893Z",
     "start_time": "2024-09-18T15:09:43.595215Z"
    }
   },
   "cell_type": "code",
   "source": "vocab.add('no')",
   "id": "633362318c4dc900",
   "outputs": [],
   "execution_count": 69
  },
  {
   "metadata": {
    "ExecuteTime": {
     "end_time": "2024-09-18T15:09:44.412955Z",
     "start_time": "2024-09-18T15:09:44.408405Z"
    }
   },
   "cell_type": "code",
   "source": "vocab.add('yes')",
   "id": "29b1a7e8b519bd53",
   "outputs": [],
   "execution_count": 70
  },
  {
   "metadata": {
    "ExecuteTime": {
     "end_time": "2024-09-18T15:09:56.442497Z",
     "start_time": "2024-09-18T15:09:56.437592Z"
    }
   },
   "cell_type": "code",
   "source": "vocab_len = len(vocab) + 1",
   "id": "968429d167633355",
   "outputs": [],
   "execution_count": 71
  },
  {
   "metadata": {
    "ExecuteTime": {
     "end_time": "2024-09-18T15:09:57.222800Z",
     "start_time": "2024-09-18T15:09:57.216956Z"
    }
   },
   "cell_type": "code",
   "source": "vocab_len",
   "id": "2567e12ee54af5a0",
   "outputs": [
    {
     "data": {
      "text/plain": [
       "38"
      ]
     },
     "execution_count": 72,
     "metadata": {},
     "output_type": "execute_result"
    }
   ],
   "execution_count": 72
  },
  {
   "metadata": {
    "ExecuteTime": {
     "end_time": "2024-09-18T15:10:01.838390Z",
     "start_time": "2024-09-18T15:10:01.830422Z"
    }
   },
   "cell_type": "code",
   "source": [
    "vocab_len = len(vocab) + 1  # for padding\n",
    "max_story_len = max([len(data[0]) for data in all_data])\n",
    "max_question_len = max([len(data[1]) for data in all_data])"
   ],
   "id": "2bcd43902967bc92",
   "outputs": [],
   "execution_count": 73
  },
  {
   "metadata": {
    "ExecuteTime": {
     "end_time": "2024-09-18T15:10:10.926791Z",
     "start_time": "2024-09-18T15:10:10.922132Z"
    }
   },
   "cell_type": "code",
   "source": [
    "def custom_standardization(input_text):\n",
    "    lowercase = tf.strings.lower(input_text)\n",
    "    cleaned_text = tf.strings.regex_replace(lowercase, '[%s]' % re.escape('!\"#$%&()*+,-./:;<=>?@[\\\\]^_`{|}~\\t\\n'), '')\n",
    "    return cleaned_text"
   ],
   "id": "f5efbbcc33070492",
   "outputs": [],
   "execution_count": 74
  },
  {
   "metadata": {
    "ExecuteTime": {
     "end_time": "2024-09-18T15:13:20.877063Z",
     "start_time": "2024-09-18T15:13:20.854659Z"
    }
   },
   "cell_type": "code",
   "source": [
    "# Convert vocab set to a list\n",
    "vocab_list = list(vocab)\n",
    "\n",
    "# Text vectorization\n",
    "vectorizer = TextVectorization(output_sequence_length=max_story_len, standardize=custom_standardization)\n",
    "\n",
    "# Use the adapted list\n",
    "vectorizer.adapt(vocab_list)\n"
   ],
   "id": "27e8b9a51b598b8f",
   "outputs": [],
   "execution_count": 76
  },
  {
   "metadata": {
    "ExecuteTime": {
     "end_time": "2024-09-18T16:01:57.104751Z",
     "start_time": "2024-09-18T16:01:57.098379Z"
    }
   },
   "cell_type": "code",
   "source": [
    "# Updated vectorize_stories function to pass single string to vectorizer\n",
    "def vectorize_stories(data, vectorizer, max_story_len=max_story_len, max_question_len=max_question_len):\n",
    "    '''\n",
    "    INPUT:\n",
    "    data: consisting of Stories, Queries, and Answers\n",
    "    vectorizer: TextVectorization layer for encoding words\n",
    "    max_story_len: the length of the longest story (used for pad_sequences function)\n",
    "    max_question_len: length of the longest question (used for pad_sequences function)\n",
    "    \n",
    "    OUTPUT:\n",
    "    Vectorizes the stories, questions, and answers into padded sequences.\n",
    "    '''\n",
    "    X = []   # Stories\n",
    "    Xq = []  # Questions\n",
    "    Y = []   # Answers\n",
    "\n",
    "    for story, query, answer in data:\n",
    "        # Convert story and query to single strings\n",
    "        story_str = ' '.join(story)\n",
    "        query_str = ' '.join(query)\n",
    "\n",
    "        # Vectorize the story and query using the vectorizer\n",
    "        x = vectorizer(np.array([story_str]))[0].numpy()\n",
    "        xq = vectorizer(np.array([query_str]))[0].numpy()\n",
    "\n",
    "        # Encode the answer\n",
    "        y = np.zeros(len(vocab_list) + 1)\n",
    "        y[vocab_list.index(answer)] = 1  # Use the vocab_list for indexing\n",
    "\n",
    "        X.append(x)\n",
    "        Xq.append(xq)\n",
    "        Y.append(y)\n",
    "\n",
    "    return (pad_sequences(X, maxlen=max_story_len),\n",
    "            pad_sequences(Xq, maxlen=max_question_len),\n",
    "            np.array(Y))\n",
    "\n",
    "\n"
   ],
   "id": "eae2e0d60495296e",
   "outputs": [],
   "execution_count": 175
  },
  {
   "metadata": {
    "ExecuteTime": {
     "end_time": "2024-09-18T16:04:00.356390Z",
     "start_time": "2024-09-18T16:01:57.891971Z"
    }
   },
   "cell_type": "code",
   "source": [
    "# Vectorize train and test data\n",
    "inputs_train, queries_train, answers_train = vectorize_stories(train_data, vectorizer)\n",
    "inputs_test, queries_test, answers_test = vectorize_stories(test_data, vectorizer)"
   ],
   "id": "621a246cd44c449e",
   "outputs": [],
   "execution_count": 176
  },
  {
   "metadata": {
    "ExecuteTime": {
     "end_time": "2024-09-18T16:04:00.367596Z",
     "start_time": "2024-09-18T16:04:00.359442Z"
    }
   },
   "cell_type": "code",
   "source": [
    "input_sequence = Input((max_story_len,))\n",
    "question = Input((max_question_len,))\n",
    "vocab_size = len(vocab) + 1  # Adding 1 for padding or unknown tokens"
   ],
   "id": "b371a6794770e8e4",
   "outputs": [],
   "execution_count": 177
  },
  {
   "metadata": {
    "ExecuteTime": {
     "end_time": "2024-09-18T16:04:00.423667Z",
     "start_time": "2024-09-18T16:04:00.371646Z"
    }
   },
   "cell_type": "code",
   "source": [
    "input_encoder_m = Sequential()\n",
    "input_encoder_m.add(Embedding(input_dim=vocab_size, output_dim=64))\n",
    "input_encoder_m.add(Dropout(0.3))\n",
    "\n",
    "input_encoder_c = Sequential()\n",
    "input_encoder_c.add(Embedding(input_dim=vocab_size, output_dim=max_question_len))\n",
    "input_encoder_c.add(Dropout(0.3))\n",
    "\n",
    "question_encoder = Sequential()\n",
    "question_encoder.add(Embedding(input_dim=vocab_size, output_dim=64, input_length=max_question_len))\n",
    "question_encoder.add(Dropout(0.3))\n",
    "\n",
    "input_encoded_m = input_encoder_m(input_sequence)\n",
    "input_encoded_c = input_encoder_c(input_sequence)\n",
    "question_encoded = question_encoder(question)\n"
   ],
   "id": "7c2427b6d62de238",
   "outputs": [],
   "execution_count": 178
  },
  {
   "metadata": {
    "ExecuteTime": {
     "end_time": "2024-09-18T16:04:00.435181Z",
     "start_time": "2024-09-18T16:04:00.425712Z"
    }
   },
   "cell_type": "code",
   "source": [
    "match = dot([input_encoded_m, question_encoded], axes=(2, 2))\n",
    "match = Activation('softmax')(match)"
   ],
   "id": "826d406407474ab7",
   "outputs": [],
   "execution_count": 179
  },
  {
   "metadata": {
    "ExecuteTime": {
     "end_time": "2024-09-18T16:04:00.455494Z",
     "start_time": "2024-09-18T16:04:00.436243Z"
    }
   },
   "cell_type": "code",
   "source": [
    "response = add([match, input_encoded_c])\n",
    "response = Permute((2, 1))(response)"
   ],
   "id": "16da5143acf3f2e9",
   "outputs": [],
   "execution_count": 180
  },
  {
   "metadata": {
    "ExecuteTime": {
     "end_time": "2024-09-18T16:04:00.464805Z",
     "start_time": "2024-09-18T16:04:00.457514Z"
    }
   },
   "cell_type": "code",
   "source": "answer = concatenate([response, question_encoded])",
   "id": "9b1a99d6edae4ecb",
   "outputs": [],
   "execution_count": 181
  },
  {
   "metadata": {
    "ExecuteTime": {
     "end_time": "2024-09-18T16:04:00.508408Z",
     "start_time": "2024-09-18T16:04:00.466824Z"
    }
   },
   "cell_type": "code",
   "source": [
    "answer = LSTM(32)(answer)\n",
    "answer = Dropout(0.5)(answer)\n",
    "answer = Dense(len(vocab) + 1)(answer)\n",
    "answer = Activation('softmax')(answer)\n"
   ],
   "id": "60ba0710afa1a0fe",
   "outputs": [],
   "execution_count": 182
  },
  {
   "metadata": {
    "ExecuteTime": {
     "end_time": "2024-09-18T16:04:00.545514Z",
     "start_time": "2024-09-18T16:04:00.509437Z"
    }
   },
   "cell_type": "code",
   "source": [
    "model = Model([input_sequence, question], answer)\n",
    "model.compile(optimizer='rmsprop', loss='categorical_crossentropy', metrics=['accuracy'])\n",
    "model.summary()"
   ],
   "id": "3e827bf3fc4c6ed8",
   "outputs": [
    {
     "data": {
      "text/plain": [
       "\u001B[1mModel: \"functional_25\"\u001B[0m\n"
      ],
      "text/html": [
       "<pre style=\"white-space:pre;overflow-x:auto;line-height:normal;font-family:Menlo,'DejaVu Sans Mono',consolas,'Courier New',monospace\"><span style=\"font-weight: bold\">Model: \"functional_25\"</span>\n",
       "</pre>\n"
      ]
     },
     "metadata": {},
     "output_type": "display_data"
    },
    {
     "data": {
      "text/plain": [
       "┏━━━━━━━━━━━━━━━━━━━━━┳━━━━━━━━━━━━━━━━━━━┳━━━━━━━━━━━━┳━━━━━━━━━━━━━━━━━━━┓\n",
       "┃\u001B[1m \u001B[0m\u001B[1mLayer (type)       \u001B[0m\u001B[1m \u001B[0m┃\u001B[1m \u001B[0m\u001B[1mOutput Shape     \u001B[0m\u001B[1m \u001B[0m┃\u001B[1m \u001B[0m\u001B[1m   Param #\u001B[0m\u001B[1m \u001B[0m┃\u001B[1m \u001B[0m\u001B[1mConnected to     \u001B[0m\u001B[1m \u001B[0m┃\n",
       "┡━━━━━━━━━━━━━━━━━━━━━╇━━━━━━━━━━━━━━━━━━━╇━━━━━━━━━━━━╇━━━━━━━━━━━━━━━━━━━┩\n",
       "│ input_layer_26      │ (\u001B[38;5;45mNone\u001B[0m, \u001B[38;5;34m156\u001B[0m)       │          \u001B[38;5;34m0\u001B[0m │ -                 │\n",
       "│ (\u001B[38;5;33mInputLayer\u001B[0m)        │                   │            │                   │\n",
       "├─────────────────────┼───────────────────┼────────────┼───────────────────┤\n",
       "│ input_layer_27      │ (\u001B[38;5;45mNone\u001B[0m, \u001B[38;5;34m6\u001B[0m)         │          \u001B[38;5;34m0\u001B[0m │ -                 │\n",
       "│ (\u001B[38;5;33mInputLayer\u001B[0m)        │                   │            │                   │\n",
       "├─────────────────────┼───────────────────┼────────────┼───────────────────┤\n",
       "│ sequential_16       │ (\u001B[38;5;45mNone\u001B[0m, \u001B[38;5;34m156\u001B[0m, \u001B[38;5;34m64\u001B[0m)   │      \u001B[38;5;34m2,432\u001B[0m │ input_layer_26[\u001B[38;5;34m0\u001B[0m… │\n",
       "│ (\u001B[38;5;33mSequential\u001B[0m)        │                   │            │                   │\n",
       "├─────────────────────┼───────────────────┼────────────┼───────────────────┤\n",
       "│ sequential_18       │ (\u001B[38;5;45mNone\u001B[0m, \u001B[38;5;34m6\u001B[0m, \u001B[38;5;34m64\u001B[0m)     │      \u001B[38;5;34m2,432\u001B[0m │ input_layer_27[\u001B[38;5;34m0\u001B[0m… │\n",
       "│ (\u001B[38;5;33mSequential\u001B[0m)        │                   │            │                   │\n",
       "├─────────────────────┼───────────────────┼────────────┼───────────────────┤\n",
       "│ dot_8 (\u001B[38;5;33mDot\u001B[0m)         │ (\u001B[38;5;45mNone\u001B[0m, \u001B[38;5;34m156\u001B[0m, \u001B[38;5;34m6\u001B[0m)    │          \u001B[38;5;34m0\u001B[0m │ sequential_16[\u001B[38;5;34m0\u001B[0m]… │\n",
       "│                     │                   │            │ sequential_18[\u001B[38;5;34m0\u001B[0m]… │\n",
       "├─────────────────────┼───────────────────┼────────────┼───────────────────┤\n",
       "│ activation_12       │ (\u001B[38;5;45mNone\u001B[0m, \u001B[38;5;34m156\u001B[0m, \u001B[38;5;34m6\u001B[0m)    │          \u001B[38;5;34m0\u001B[0m │ dot_8[\u001B[38;5;34m0\u001B[0m][\u001B[38;5;34m0\u001B[0m]       │\n",
       "│ (\u001B[38;5;33mActivation\u001B[0m)        │                   │            │                   │\n",
       "├─────────────────────┼───────────────────┼────────────┼───────────────────┤\n",
       "│ sequential_17       │ (\u001B[38;5;45mNone\u001B[0m, \u001B[38;5;34m156\u001B[0m, \u001B[38;5;34m6\u001B[0m)    │        \u001B[38;5;34m228\u001B[0m │ input_layer_26[\u001B[38;5;34m0\u001B[0m… │\n",
       "│ (\u001B[38;5;33mSequential\u001B[0m)        │                   │            │                   │\n",
       "├─────────────────────┼───────────────────┼────────────┼───────────────────┤\n",
       "│ add_8 (\u001B[38;5;33mAdd\u001B[0m)         │ (\u001B[38;5;45mNone\u001B[0m, \u001B[38;5;34m156\u001B[0m, \u001B[38;5;34m6\u001B[0m)    │          \u001B[38;5;34m0\u001B[0m │ activation_12[\u001B[38;5;34m0\u001B[0m]… │\n",
       "│                     │                   │            │ sequential_17[\u001B[38;5;34m0\u001B[0m]… │\n",
       "├─────────────────────┼───────────────────┼────────────┼───────────────────┤\n",
       "│ permute_5 (\u001B[38;5;33mPermute\u001B[0m) │ (\u001B[38;5;45mNone\u001B[0m, \u001B[38;5;34m6\u001B[0m, \u001B[38;5;34m156\u001B[0m)    │          \u001B[38;5;34m0\u001B[0m │ add_8[\u001B[38;5;34m0\u001B[0m][\u001B[38;5;34m0\u001B[0m]       │\n",
       "├─────────────────────┼───────────────────┼────────────┼───────────────────┤\n",
       "│ concatenate_5       │ (\u001B[38;5;45mNone\u001B[0m, \u001B[38;5;34m6\u001B[0m, \u001B[38;5;34m220\u001B[0m)    │          \u001B[38;5;34m0\u001B[0m │ permute_5[\u001B[38;5;34m0\u001B[0m][\u001B[38;5;34m0\u001B[0m],  │\n",
       "│ (\u001B[38;5;33mConcatenate\u001B[0m)       │                   │            │ sequential_18[\u001B[38;5;34m0\u001B[0m]… │\n",
       "├─────────────────────┼───────────────────┼────────────┼───────────────────┤\n",
       "│ lstm_4 (\u001B[38;5;33mLSTM\u001B[0m)       │ (\u001B[38;5;45mNone\u001B[0m, \u001B[38;5;34m32\u001B[0m)        │     \u001B[38;5;34m32,384\u001B[0m │ concatenate_5[\u001B[38;5;34m0\u001B[0m]… │\n",
       "├─────────────────────┼───────────────────┼────────────┼───────────────────┤\n",
       "│ dropout_30          │ (\u001B[38;5;45mNone\u001B[0m, \u001B[38;5;34m32\u001B[0m)        │          \u001B[38;5;34m0\u001B[0m │ lstm_4[\u001B[38;5;34m0\u001B[0m][\u001B[38;5;34m0\u001B[0m]      │\n",
       "│ (\u001B[38;5;33mDropout\u001B[0m)           │                   │            │                   │\n",
       "├─────────────────────┼───────────────────┼────────────┼───────────────────┤\n",
       "│ dense_4 (\u001B[38;5;33mDense\u001B[0m)     │ (\u001B[38;5;45mNone\u001B[0m, \u001B[38;5;34m38\u001B[0m)        │      \u001B[38;5;34m1,254\u001B[0m │ dropout_30[\u001B[38;5;34m0\u001B[0m][\u001B[38;5;34m0\u001B[0m]  │\n",
       "├─────────────────────┼───────────────────┼────────────┼───────────────────┤\n",
       "│ activation_13       │ (\u001B[38;5;45mNone\u001B[0m, \u001B[38;5;34m38\u001B[0m)        │          \u001B[38;5;34m0\u001B[0m │ dense_4[\u001B[38;5;34m0\u001B[0m][\u001B[38;5;34m0\u001B[0m]     │\n",
       "│ (\u001B[38;5;33mActivation\u001B[0m)        │                   │            │                   │\n",
       "└─────────────────────┴───────────────────┴────────────┴───────────────────┘\n"
      ],
      "text/html": [
       "<pre style=\"white-space:pre;overflow-x:auto;line-height:normal;font-family:Menlo,'DejaVu Sans Mono',consolas,'Courier New',monospace\">┏━━━━━━━━━━━━━━━━━━━━━┳━━━━━━━━━━━━━━━━━━━┳━━━━━━━━━━━━┳━━━━━━━━━━━━━━━━━━━┓\n",
       "┃<span style=\"font-weight: bold\"> Layer (type)        </span>┃<span style=\"font-weight: bold\"> Output Shape      </span>┃<span style=\"font-weight: bold\">    Param # </span>┃<span style=\"font-weight: bold\"> Connected to      </span>┃\n",
       "┡━━━━━━━━━━━━━━━━━━━━━╇━━━━━━━━━━━━━━━━━━━╇━━━━━━━━━━━━╇━━━━━━━━━━━━━━━━━━━┩\n",
       "│ input_layer_26      │ (<span style=\"color: #00d7ff; text-decoration-color: #00d7ff\">None</span>, <span style=\"color: #00af00; text-decoration-color: #00af00\">156</span>)       │          <span style=\"color: #00af00; text-decoration-color: #00af00\">0</span> │ -                 │\n",
       "│ (<span style=\"color: #0087ff; text-decoration-color: #0087ff\">InputLayer</span>)        │                   │            │                   │\n",
       "├─────────────────────┼───────────────────┼────────────┼───────────────────┤\n",
       "│ input_layer_27      │ (<span style=\"color: #00d7ff; text-decoration-color: #00d7ff\">None</span>, <span style=\"color: #00af00; text-decoration-color: #00af00\">6</span>)         │          <span style=\"color: #00af00; text-decoration-color: #00af00\">0</span> │ -                 │\n",
       "│ (<span style=\"color: #0087ff; text-decoration-color: #0087ff\">InputLayer</span>)        │                   │            │                   │\n",
       "├─────────────────────┼───────────────────┼────────────┼───────────────────┤\n",
       "│ sequential_16       │ (<span style=\"color: #00d7ff; text-decoration-color: #00d7ff\">None</span>, <span style=\"color: #00af00; text-decoration-color: #00af00\">156</span>, <span style=\"color: #00af00; text-decoration-color: #00af00\">64</span>)   │      <span style=\"color: #00af00; text-decoration-color: #00af00\">2,432</span> │ input_layer_26[<span style=\"color: #00af00; text-decoration-color: #00af00\">0</span>… │\n",
       "│ (<span style=\"color: #0087ff; text-decoration-color: #0087ff\">Sequential</span>)        │                   │            │                   │\n",
       "├─────────────────────┼───────────────────┼────────────┼───────────────────┤\n",
       "│ sequential_18       │ (<span style=\"color: #00d7ff; text-decoration-color: #00d7ff\">None</span>, <span style=\"color: #00af00; text-decoration-color: #00af00\">6</span>, <span style=\"color: #00af00; text-decoration-color: #00af00\">64</span>)     │      <span style=\"color: #00af00; text-decoration-color: #00af00\">2,432</span> │ input_layer_27[<span style=\"color: #00af00; text-decoration-color: #00af00\">0</span>… │\n",
       "│ (<span style=\"color: #0087ff; text-decoration-color: #0087ff\">Sequential</span>)        │                   │            │                   │\n",
       "├─────────────────────┼───────────────────┼────────────┼───────────────────┤\n",
       "│ dot_8 (<span style=\"color: #0087ff; text-decoration-color: #0087ff\">Dot</span>)         │ (<span style=\"color: #00d7ff; text-decoration-color: #00d7ff\">None</span>, <span style=\"color: #00af00; text-decoration-color: #00af00\">156</span>, <span style=\"color: #00af00; text-decoration-color: #00af00\">6</span>)    │          <span style=\"color: #00af00; text-decoration-color: #00af00\">0</span> │ sequential_16[<span style=\"color: #00af00; text-decoration-color: #00af00\">0</span>]… │\n",
       "│                     │                   │            │ sequential_18[<span style=\"color: #00af00; text-decoration-color: #00af00\">0</span>]… │\n",
       "├─────────────────────┼───────────────────┼────────────┼───────────────────┤\n",
       "│ activation_12       │ (<span style=\"color: #00d7ff; text-decoration-color: #00d7ff\">None</span>, <span style=\"color: #00af00; text-decoration-color: #00af00\">156</span>, <span style=\"color: #00af00; text-decoration-color: #00af00\">6</span>)    │          <span style=\"color: #00af00; text-decoration-color: #00af00\">0</span> │ dot_8[<span style=\"color: #00af00; text-decoration-color: #00af00\">0</span>][<span style=\"color: #00af00; text-decoration-color: #00af00\">0</span>]       │\n",
       "│ (<span style=\"color: #0087ff; text-decoration-color: #0087ff\">Activation</span>)        │                   │            │                   │\n",
       "├─────────────────────┼───────────────────┼────────────┼───────────────────┤\n",
       "│ sequential_17       │ (<span style=\"color: #00d7ff; text-decoration-color: #00d7ff\">None</span>, <span style=\"color: #00af00; text-decoration-color: #00af00\">156</span>, <span style=\"color: #00af00; text-decoration-color: #00af00\">6</span>)    │        <span style=\"color: #00af00; text-decoration-color: #00af00\">228</span> │ input_layer_26[<span style=\"color: #00af00; text-decoration-color: #00af00\">0</span>… │\n",
       "│ (<span style=\"color: #0087ff; text-decoration-color: #0087ff\">Sequential</span>)        │                   │            │                   │\n",
       "├─────────────────────┼───────────────────┼────────────┼───────────────────┤\n",
       "│ add_8 (<span style=\"color: #0087ff; text-decoration-color: #0087ff\">Add</span>)         │ (<span style=\"color: #00d7ff; text-decoration-color: #00d7ff\">None</span>, <span style=\"color: #00af00; text-decoration-color: #00af00\">156</span>, <span style=\"color: #00af00; text-decoration-color: #00af00\">6</span>)    │          <span style=\"color: #00af00; text-decoration-color: #00af00\">0</span> │ activation_12[<span style=\"color: #00af00; text-decoration-color: #00af00\">0</span>]… │\n",
       "│                     │                   │            │ sequential_17[<span style=\"color: #00af00; text-decoration-color: #00af00\">0</span>]… │\n",
       "├─────────────────────┼───────────────────┼────────────┼───────────────────┤\n",
       "│ permute_5 (<span style=\"color: #0087ff; text-decoration-color: #0087ff\">Permute</span>) │ (<span style=\"color: #00d7ff; text-decoration-color: #00d7ff\">None</span>, <span style=\"color: #00af00; text-decoration-color: #00af00\">6</span>, <span style=\"color: #00af00; text-decoration-color: #00af00\">156</span>)    │          <span style=\"color: #00af00; text-decoration-color: #00af00\">0</span> │ add_8[<span style=\"color: #00af00; text-decoration-color: #00af00\">0</span>][<span style=\"color: #00af00; text-decoration-color: #00af00\">0</span>]       │\n",
       "├─────────────────────┼───────────────────┼────────────┼───────────────────┤\n",
       "│ concatenate_5       │ (<span style=\"color: #00d7ff; text-decoration-color: #00d7ff\">None</span>, <span style=\"color: #00af00; text-decoration-color: #00af00\">6</span>, <span style=\"color: #00af00; text-decoration-color: #00af00\">220</span>)    │          <span style=\"color: #00af00; text-decoration-color: #00af00\">0</span> │ permute_5[<span style=\"color: #00af00; text-decoration-color: #00af00\">0</span>][<span style=\"color: #00af00; text-decoration-color: #00af00\">0</span>],  │\n",
       "│ (<span style=\"color: #0087ff; text-decoration-color: #0087ff\">Concatenate</span>)       │                   │            │ sequential_18[<span style=\"color: #00af00; text-decoration-color: #00af00\">0</span>]… │\n",
       "├─────────────────────┼───────────────────┼────────────┼───────────────────┤\n",
       "│ lstm_4 (<span style=\"color: #0087ff; text-decoration-color: #0087ff\">LSTM</span>)       │ (<span style=\"color: #00d7ff; text-decoration-color: #00d7ff\">None</span>, <span style=\"color: #00af00; text-decoration-color: #00af00\">32</span>)        │     <span style=\"color: #00af00; text-decoration-color: #00af00\">32,384</span> │ concatenate_5[<span style=\"color: #00af00; text-decoration-color: #00af00\">0</span>]… │\n",
       "├─────────────────────┼───────────────────┼────────────┼───────────────────┤\n",
       "│ dropout_30          │ (<span style=\"color: #00d7ff; text-decoration-color: #00d7ff\">None</span>, <span style=\"color: #00af00; text-decoration-color: #00af00\">32</span>)        │          <span style=\"color: #00af00; text-decoration-color: #00af00\">0</span> │ lstm_4[<span style=\"color: #00af00; text-decoration-color: #00af00\">0</span>][<span style=\"color: #00af00; text-decoration-color: #00af00\">0</span>]      │\n",
       "│ (<span style=\"color: #0087ff; text-decoration-color: #0087ff\">Dropout</span>)           │                   │            │                   │\n",
       "├─────────────────────┼───────────────────┼────────────┼───────────────────┤\n",
       "│ dense_4 (<span style=\"color: #0087ff; text-decoration-color: #0087ff\">Dense</span>)     │ (<span style=\"color: #00d7ff; text-decoration-color: #00d7ff\">None</span>, <span style=\"color: #00af00; text-decoration-color: #00af00\">38</span>)        │      <span style=\"color: #00af00; text-decoration-color: #00af00\">1,254</span> │ dropout_30[<span style=\"color: #00af00; text-decoration-color: #00af00\">0</span>][<span style=\"color: #00af00; text-decoration-color: #00af00\">0</span>]  │\n",
       "├─────────────────────┼───────────────────┼────────────┼───────────────────┤\n",
       "│ activation_13       │ (<span style=\"color: #00d7ff; text-decoration-color: #00d7ff\">None</span>, <span style=\"color: #00af00; text-decoration-color: #00af00\">38</span>)        │          <span style=\"color: #00af00; text-decoration-color: #00af00\">0</span> │ dense_4[<span style=\"color: #00af00; text-decoration-color: #00af00\">0</span>][<span style=\"color: #00af00; text-decoration-color: #00af00\">0</span>]     │\n",
       "│ (<span style=\"color: #0087ff; text-decoration-color: #0087ff\">Activation</span>)        │                   │            │                   │\n",
       "└─────────────────────┴───────────────────┴────────────┴───────────────────┘\n",
       "</pre>\n"
      ]
     },
     "metadata": {},
     "output_type": "display_data"
    },
    {
     "data": {
      "text/plain": [
       "\u001B[1m Total params: \u001B[0m\u001B[38;5;34m38,730\u001B[0m (151.29 KB)\n"
      ],
      "text/html": [
       "<pre style=\"white-space:pre;overflow-x:auto;line-height:normal;font-family:Menlo,'DejaVu Sans Mono',consolas,'Courier New',monospace\"><span style=\"font-weight: bold\"> Total params: </span><span style=\"color: #00af00; text-decoration-color: #00af00\">38,730</span> (151.29 KB)\n",
       "</pre>\n"
      ]
     },
     "metadata": {},
     "output_type": "display_data"
    },
    {
     "data": {
      "text/plain": [
       "\u001B[1m Trainable params: \u001B[0m\u001B[38;5;34m38,730\u001B[0m (151.29 KB)\n"
      ],
      "text/html": [
       "<pre style=\"white-space:pre;overflow-x:auto;line-height:normal;font-family:Menlo,'DejaVu Sans Mono',consolas,'Courier New',monospace\"><span style=\"font-weight: bold\"> Trainable params: </span><span style=\"color: #00af00; text-decoration-color: #00af00\">38,730</span> (151.29 KB)\n",
       "</pre>\n"
      ]
     },
     "metadata": {},
     "output_type": "display_data"
    },
    {
     "data": {
      "text/plain": [
       "\u001B[1m Non-trainable params: \u001B[0m\u001B[38;5;34m0\u001B[0m (0.00 B)\n"
      ],
      "text/html": [
       "<pre style=\"white-space:pre;overflow-x:auto;line-height:normal;font-family:Menlo,'DejaVu Sans Mono',consolas,'Courier New',monospace\"><span style=\"font-weight: bold\"> Non-trainable params: </span><span style=\"color: #00af00; text-decoration-color: #00af00\">0</span> (0.00 B)\n",
       "</pre>\n"
      ]
     },
     "metadata": {},
     "output_type": "display_data"
    }
   ],
   "execution_count": 183
  },
  {
   "metadata": {
    "ExecuteTime": {
     "end_time": "2024-09-18T16:11:10.322546Z",
     "start_time": "2024-09-18T16:04:06.829724Z"
    }
   },
   "cell_type": "code",
   "source": "history = model.fit([inputs_train, queries_train], answers_train, batch_size=32, epochs=120, validation_data=([inputs_test, queries_test], answers_test))",
   "id": "91029b77b64d98e",
   "outputs": [
    {
     "name": "stdout",
     "output_type": "stream",
     "text": [
      "Epoch 1/120\n",
      "\u001B[1m313/313\u001B[0m \u001B[32m━━━━━━━━━━━━━━━━━━━━\u001B[0m\u001B[37m\u001B[0m \u001B[1m6s\u001B[0m 10ms/step - accuracy: 0.4939 - loss: 1.2340 - val_accuracy: 0.5170 - val_loss: 0.6944\n",
      "Epoch 2/120\n",
      "\u001B[1m313/313\u001B[0m \u001B[32m━━━━━━━━━━━━━━━━━━━━\u001B[0m\u001B[37m\u001B[0m \u001B[1m3s\u001B[0m 10ms/step - accuracy: 0.5002 - loss: 0.7112 - val_accuracy: 0.4970 - val_loss: 0.6941\n",
      "Epoch 3/120\n",
      "\u001B[1m313/313\u001B[0m \u001B[32m━━━━━━━━━━━━━━━━━━━━\u001B[0m\u001B[37m\u001B[0m \u001B[1m3s\u001B[0m 10ms/step - accuracy: 0.4905 - loss: 0.7009 - val_accuracy: 0.5030 - val_loss: 0.6932\n",
      "Epoch 4/120\n",
      "\u001B[1m313/313\u001B[0m \u001B[32m━━━━━━━━━━━━━━━━━━━━\u001B[0m\u001B[37m\u001B[0m \u001B[1m3s\u001B[0m 10ms/step - accuracy: 0.4894 - loss: 0.6969 - val_accuracy: 0.4970 - val_loss: 0.6944\n",
      "Epoch 5/120\n",
      "\u001B[1m313/313\u001B[0m \u001B[32m━━━━━━━━━━━━━━━━━━━━\u001B[0m\u001B[37m\u001B[0m \u001B[1m4s\u001B[0m 13ms/step - accuracy: 0.5026 - loss: 0.6947 - val_accuracy: 0.4970 - val_loss: 0.6945\n",
      "Epoch 6/120\n",
      "\u001B[1m313/313\u001B[0m \u001B[32m━━━━━━━━━━━━━━━━━━━━\u001B[0m\u001B[37m\u001B[0m \u001B[1m5s\u001B[0m 16ms/step - accuracy: 0.4914 - loss: 0.6963 - val_accuracy: 0.5030 - val_loss: 0.6932\n",
      "Epoch 7/120\n",
      "\u001B[1m313/313\u001B[0m \u001B[32m━━━━━━━━━━━━━━━━━━━━\u001B[0m\u001B[37m\u001B[0m \u001B[1m5s\u001B[0m 16ms/step - accuracy: 0.4965 - loss: 0.6954 - val_accuracy: 0.5030 - val_loss: 0.6931\n",
      "Epoch 8/120\n",
      "\u001B[1m313/313\u001B[0m \u001B[32m━━━━━━━━━━━━━━━━━━━━\u001B[0m\u001B[37m\u001B[0m \u001B[1m5s\u001B[0m 15ms/step - accuracy: 0.4899 - loss: 0.6955 - val_accuracy: 0.5030 - val_loss: 0.6949\n",
      "Epoch 9/120\n",
      "\u001B[1m313/313\u001B[0m \u001B[32m━━━━━━━━━━━━━━━━━━━━\u001B[0m\u001B[37m\u001B[0m \u001B[1m5s\u001B[0m 15ms/step - accuracy: 0.5029 - loss: 0.6948 - val_accuracy: 0.4970 - val_loss: 0.6937\n",
      "Epoch 10/120\n",
      "\u001B[1m313/313\u001B[0m \u001B[32m━━━━━━━━━━━━━━━━━━━━\u001B[0m\u001B[37m\u001B[0m \u001B[1m5s\u001B[0m 15ms/step - accuracy: 0.4970 - loss: 0.6958 - val_accuracy: 0.5030 - val_loss: 0.6935\n",
      "Epoch 11/120\n",
      "\u001B[1m313/313\u001B[0m \u001B[32m━━━━━━━━━━━━━━━━━━━━\u001B[0m\u001B[37m\u001B[0m \u001B[1m5s\u001B[0m 14ms/step - accuracy: 0.4955 - loss: 0.6957 - val_accuracy: 0.4970 - val_loss: 0.6949\n",
      "Epoch 12/120\n",
      "\u001B[1m313/313\u001B[0m \u001B[32m━━━━━━━━━━━━━━━━━━━━\u001B[0m\u001B[37m\u001B[0m \u001B[1m5s\u001B[0m 15ms/step - accuracy: 0.4859 - loss: 0.6958 - val_accuracy: 0.5030 - val_loss: 0.6934\n",
      "Epoch 13/120\n",
      "\u001B[1m313/313\u001B[0m \u001B[32m━━━━━━━━━━━━━━━━━━━━\u001B[0m\u001B[37m\u001B[0m \u001B[1m5s\u001B[0m 14ms/step - accuracy: 0.5045 - loss: 0.6946 - val_accuracy: 0.5030 - val_loss: 0.6941\n",
      "Epoch 14/120\n",
      "\u001B[1m313/313\u001B[0m \u001B[32m━━━━━━━━━━━━━━━━━━━━\u001B[0m\u001B[37m\u001B[0m \u001B[1m4s\u001B[0m 14ms/step - accuracy: 0.4980 - loss: 0.6957 - val_accuracy: 0.5030 - val_loss: 0.6932\n",
      "Epoch 15/120\n",
      "\u001B[1m313/313\u001B[0m \u001B[32m━━━━━━━━━━━━━━━━━━━━\u001B[0m\u001B[37m\u001B[0m \u001B[1m5s\u001B[0m 15ms/step - accuracy: 0.4883 - loss: 0.6955 - val_accuracy: 0.4970 - val_loss: 0.6934\n",
      "Epoch 16/120\n",
      "\u001B[1m313/313\u001B[0m \u001B[32m━━━━━━━━━━━━━━━━━━━━\u001B[0m\u001B[37m\u001B[0m \u001B[1m4s\u001B[0m 13ms/step - accuracy: 0.4979 - loss: 0.6946 - val_accuracy: 0.5030 - val_loss: 0.6947\n",
      "Epoch 17/120\n",
      "\u001B[1m313/313\u001B[0m \u001B[32m━━━━━━━━━━━━━━━━━━━━\u001B[0m\u001B[37m\u001B[0m \u001B[1m4s\u001B[0m 14ms/step - accuracy: 0.4855 - loss: 0.6969 - val_accuracy: 0.5030 - val_loss: 0.6940\n",
      "Epoch 18/120\n",
      "\u001B[1m313/313\u001B[0m \u001B[32m━━━━━━━━━━━━━━━━━━━━\u001B[0m\u001B[37m\u001B[0m \u001B[1m4s\u001B[0m 12ms/step - accuracy: 0.4999 - loss: 0.6958 - val_accuracy: 0.5030 - val_loss: 0.6939\n",
      "Epoch 19/120\n",
      "\u001B[1m313/313\u001B[0m \u001B[32m━━━━━━━━━━━━━━━━━━━━\u001B[0m\u001B[37m\u001B[0m \u001B[1m4s\u001B[0m 12ms/step - accuracy: 0.5054 - loss: 0.6940 - val_accuracy: 0.5030 - val_loss: 0.6932\n",
      "Epoch 20/120\n",
      "\u001B[1m313/313\u001B[0m \u001B[32m━━━━━━━━━━━━━━━━━━━━\u001B[0m\u001B[37m\u001B[0m \u001B[1m4s\u001B[0m 11ms/step - accuracy: 0.4951 - loss: 0.6950 - val_accuracy: 0.4970 - val_loss: 0.6936\n",
      "Epoch 21/120\n",
      "\u001B[1m313/313\u001B[0m \u001B[32m━━━━━━━━━━━━━━━━━━━━\u001B[0m\u001B[37m\u001B[0m \u001B[1m4s\u001B[0m 12ms/step - accuracy: 0.5059 - loss: 0.6947 - val_accuracy: 0.5030 - val_loss: 0.6931\n",
      "Epoch 22/120\n",
      "\u001B[1m313/313\u001B[0m \u001B[32m━━━━━━━━━━━━━━━━━━━━\u001B[0m\u001B[37m\u001B[0m \u001B[1m4s\u001B[0m 12ms/step - accuracy: 0.5165 - loss: 0.6937 - val_accuracy: 0.5040 - val_loss: 0.6932\n",
      "Epoch 23/120\n",
      "\u001B[1m313/313\u001B[0m \u001B[32m━━━━━━━━━━━━━━━━━━━━\u001B[0m\u001B[37m\u001B[0m \u001B[1m4s\u001B[0m 12ms/step - accuracy: 0.4960 - loss: 0.6954 - val_accuracy: 0.5030 - val_loss: 0.6933\n",
      "Epoch 24/120\n",
      "\u001B[1m313/313\u001B[0m \u001B[32m━━━━━━━━━━━━━━━━━━━━\u001B[0m\u001B[37m\u001B[0m \u001B[1m4s\u001B[0m 11ms/step - accuracy: 0.4939 - loss: 0.6957 - val_accuracy: 0.4970 - val_loss: 0.6949\n",
      "Epoch 25/120\n",
      "\u001B[1m313/313\u001B[0m \u001B[32m━━━━━━━━━━━━━━━━━━━━\u001B[0m\u001B[37m\u001B[0m \u001B[1m3s\u001B[0m 11ms/step - accuracy: 0.5071 - loss: 0.6938 - val_accuracy: 0.5030 - val_loss: 0.6950\n",
      "Epoch 26/120\n",
      "\u001B[1m313/313\u001B[0m \u001B[32m━━━━━━━━━━━━━━━━━━━━\u001B[0m\u001B[37m\u001B[0m \u001B[1m3s\u001B[0m 11ms/step - accuracy: 0.4855 - loss: 0.6962 - val_accuracy: 0.4970 - val_loss: 0.6940\n",
      "Epoch 27/120\n",
      "\u001B[1m313/313\u001B[0m \u001B[32m━━━━━━━━━━━━━━━━━━━━\u001B[0m\u001B[37m\u001B[0m \u001B[1m3s\u001B[0m 10ms/step - accuracy: 0.4956 - loss: 0.6953 - val_accuracy: 0.4970 - val_loss: 0.6942\n",
      "Epoch 28/120\n",
      "\u001B[1m313/313\u001B[0m \u001B[32m━━━━━━━━━━━━━━━━━━━━\u001B[0m\u001B[37m\u001B[0m \u001B[1m3s\u001B[0m 10ms/step - accuracy: 0.5055 - loss: 0.6946 - val_accuracy: 0.5030 - val_loss: 0.6932\n",
      "Epoch 29/120\n",
      "\u001B[1m313/313\u001B[0m \u001B[32m━━━━━━━━━━━━━━━━━━━━\u001B[0m\u001B[37m\u001B[0m \u001B[1m3s\u001B[0m 10ms/step - accuracy: 0.4894 - loss: 0.6957 - val_accuracy: 0.5030 - val_loss: 0.6939\n",
      "Epoch 30/120\n",
      "\u001B[1m313/313\u001B[0m \u001B[32m━━━━━━━━━━━━━━━━━━━━\u001B[0m\u001B[37m\u001B[0m \u001B[1m3s\u001B[0m 10ms/step - accuracy: 0.4963 - loss: 0.6945 - val_accuracy: 0.4970 - val_loss: 0.6937\n",
      "Epoch 31/120\n",
      "\u001B[1m313/313\u001B[0m \u001B[32m━━━━━━━━━━━━━━━━━━━━\u001B[0m\u001B[37m\u001B[0m \u001B[1m3s\u001B[0m 11ms/step - accuracy: 0.5161 - loss: 0.6936 - val_accuracy: 0.5030 - val_loss: 0.6935\n",
      "Epoch 32/120\n",
      "\u001B[1m313/313\u001B[0m \u001B[32m━━━━━━━━━━━━━━━━━━━━\u001B[0m\u001B[37m\u001B[0m \u001B[1m3s\u001B[0m 10ms/step - accuracy: 0.5059 - loss: 0.6944 - val_accuracy: 0.4970 - val_loss: 0.6932\n",
      "Epoch 33/120\n",
      "\u001B[1m313/313\u001B[0m \u001B[32m━━━━━━━━━━━━━━━━━━━━\u001B[0m\u001B[37m\u001B[0m \u001B[1m3s\u001B[0m 11ms/step - accuracy: 0.5084 - loss: 0.6943 - val_accuracy: 0.5030 - val_loss: 0.6931\n",
      "Epoch 34/120\n",
      "\u001B[1m313/313\u001B[0m \u001B[32m━━━━━━━━━━━━━━━━━━━━\u001B[0m\u001B[37m\u001B[0m \u001B[1m3s\u001B[0m 10ms/step - accuracy: 0.4953 - loss: 0.6956 - val_accuracy: 0.5030 - val_loss: 0.6942\n",
      "Epoch 35/120\n",
      "\u001B[1m313/313\u001B[0m \u001B[32m━━━━━━━━━━━━━━━━━━━━\u001B[0m\u001B[37m\u001B[0m \u001B[1m3s\u001B[0m 11ms/step - accuracy: 0.4984 - loss: 0.6958 - val_accuracy: 0.4970 - val_loss: 0.6954\n",
      "Epoch 36/120\n",
      "\u001B[1m313/313\u001B[0m \u001B[32m━━━━━━━━━━━━━━━━━━━━\u001B[0m\u001B[37m\u001B[0m \u001B[1m3s\u001B[0m 10ms/step - accuracy: 0.4921 - loss: 0.6960 - val_accuracy: 0.4970 - val_loss: 0.6960\n",
      "Epoch 37/120\n",
      "\u001B[1m313/313\u001B[0m \u001B[32m━━━━━━━━━━━━━━━━━━━━\u001B[0m\u001B[37m\u001B[0m \u001B[1m3s\u001B[0m 11ms/step - accuracy: 0.4858 - loss: 0.6959 - val_accuracy: 0.4970 - val_loss: 0.6936\n",
      "Epoch 38/120\n",
      "\u001B[1m313/313\u001B[0m \u001B[32m━━━━━━━━━━━━━━━━━━━━\u001B[0m\u001B[37m\u001B[0m \u001B[1m3s\u001B[0m 11ms/step - accuracy: 0.5111 - loss: 0.6938 - val_accuracy: 0.4970 - val_loss: 0.6951\n",
      "Epoch 39/120\n",
      "\u001B[1m313/313\u001B[0m \u001B[32m━━━━━━━━━━━━━━━━━━━━\u001B[0m\u001B[37m\u001B[0m \u001B[1m3s\u001B[0m 11ms/step - accuracy: 0.5015 - loss: 0.6954 - val_accuracy: 0.5030 - val_loss: 0.6955\n",
      "Epoch 40/120\n",
      "\u001B[1m313/313\u001B[0m \u001B[32m━━━━━━━━━━━━━━━━━━━━\u001B[0m\u001B[37m\u001B[0m \u001B[1m3s\u001B[0m 10ms/step - accuracy: 0.4936 - loss: 0.6958 - val_accuracy: 0.5030 - val_loss: 0.6933\n",
      "Epoch 41/120\n",
      "\u001B[1m313/313\u001B[0m \u001B[32m━━━━━━━━━━━━━━━━━━━━\u001B[0m\u001B[37m\u001B[0m \u001B[1m3s\u001B[0m 11ms/step - accuracy: 0.5055 - loss: 0.6949 - val_accuracy: 0.5030 - val_loss: 0.6932\n",
      "Epoch 42/120\n",
      "\u001B[1m313/313\u001B[0m \u001B[32m━━━━━━━━━━━━━━━━━━━━\u001B[0m\u001B[37m\u001B[0m \u001B[1m3s\u001B[0m 10ms/step - accuracy: 0.5028 - loss: 0.6950 - val_accuracy: 0.5030 - val_loss: 0.6932\n",
      "Epoch 43/120\n",
      "\u001B[1m313/313\u001B[0m \u001B[32m━━━━━━━━━━━━━━━━━━━━\u001B[0m\u001B[37m\u001B[0m \u001B[1m3s\u001B[0m 10ms/step - accuracy: 0.5081 - loss: 0.6938 - val_accuracy: 0.4970 - val_loss: 0.6959\n",
      "Epoch 44/120\n",
      "\u001B[1m313/313\u001B[0m \u001B[32m━━━━━━━━━━━━━━━━━━━━\u001B[0m\u001B[37m\u001B[0m \u001B[1m3s\u001B[0m 10ms/step - accuracy: 0.4922 - loss: 0.6957 - val_accuracy: 0.5030 - val_loss: 0.6939\n",
      "Epoch 45/120\n",
      "\u001B[1m313/313\u001B[0m \u001B[32m━━━━━━━━━━━━━━━━━━━━\u001B[0m\u001B[37m\u001B[0m \u001B[1m3s\u001B[0m 10ms/step - accuracy: 0.4992 - loss: 0.6945 - val_accuracy: 0.4970 - val_loss: 0.6933\n",
      "Epoch 46/120\n",
      "\u001B[1m313/313\u001B[0m \u001B[32m━━━━━━━━━━━━━━━━━━━━\u001B[0m\u001B[37m\u001B[0m \u001B[1m3s\u001B[0m 10ms/step - accuracy: 0.4938 - loss: 0.6952 - val_accuracy: 0.5030 - val_loss: 0.6933\n",
      "Epoch 47/120\n",
      "\u001B[1m313/313\u001B[0m \u001B[32m━━━━━━━━━━━━━━━━━━━━\u001B[0m\u001B[37m\u001B[0m \u001B[1m3s\u001B[0m 11ms/step - accuracy: 0.4952 - loss: 0.6950 - val_accuracy: 0.4970 - val_loss: 0.6938\n",
      "Epoch 48/120\n",
      "\u001B[1m313/313\u001B[0m \u001B[32m━━━━━━━━━━━━━━━━━━━━\u001B[0m\u001B[37m\u001B[0m \u001B[1m3s\u001B[0m 11ms/step - accuracy: 0.4917 - loss: 0.6952 - val_accuracy: 0.4970 - val_loss: 0.6936\n",
      "Epoch 49/120\n",
      "\u001B[1m313/313\u001B[0m \u001B[32m━━━━━━━━━━━━━━━━━━━━\u001B[0m\u001B[37m\u001B[0m \u001B[1m3s\u001B[0m 11ms/step - accuracy: 0.4951 - loss: 0.6952 - val_accuracy: 0.5030 - val_loss: 0.6954\n",
      "Epoch 50/120\n",
      "\u001B[1m313/313\u001B[0m \u001B[32m━━━━━━━━━━━━━━━━━━━━\u001B[0m\u001B[37m\u001B[0m \u001B[1m3s\u001B[0m 10ms/step - accuracy: 0.4981 - loss: 0.6953 - val_accuracy: 0.5040 - val_loss: 0.6935\n",
      "Epoch 51/120\n",
      "\u001B[1m313/313\u001B[0m \u001B[32m━━━━━━━━━━━━━━━━━━━━\u001B[0m\u001B[37m\u001B[0m \u001B[1m3s\u001B[0m 10ms/step - accuracy: 0.4982 - loss: 0.6943 - val_accuracy: 0.4970 - val_loss: 0.6948\n",
      "Epoch 52/120\n",
      "\u001B[1m313/313\u001B[0m \u001B[32m━━━━━━━━━━━━━━━━━━━━\u001B[0m\u001B[37m\u001B[0m \u001B[1m3s\u001B[0m 11ms/step - accuracy: 0.5103 - loss: 0.6944 - val_accuracy: 0.4960 - val_loss: 0.6955\n",
      "Epoch 53/120\n",
      "\u001B[1m313/313\u001B[0m \u001B[32m━━━━━━━━━━━━━━━━━━━━\u001B[0m\u001B[37m\u001B[0m \u001B[1m3s\u001B[0m 11ms/step - accuracy: 0.4965 - loss: 0.6964 - val_accuracy: 0.4970 - val_loss: 0.6946\n",
      "Epoch 54/120\n",
      "\u001B[1m313/313\u001B[0m \u001B[32m━━━━━━━━━━━━━━━━━━━━\u001B[0m\u001B[37m\u001B[0m \u001B[1m3s\u001B[0m 11ms/step - accuracy: 0.4988 - loss: 0.6952 - val_accuracy: 0.5020 - val_loss: 0.6939\n",
      "Epoch 55/120\n",
      "\u001B[1m313/313\u001B[0m \u001B[32m━━━━━━━━━━━━━━━━━━━━\u001B[0m\u001B[37m\u001B[0m \u001B[1m3s\u001B[0m 11ms/step - accuracy: 0.5145 - loss: 0.6928 - val_accuracy: 0.4890 - val_loss: 0.6937\n",
      "Epoch 56/120\n",
      "\u001B[1m313/313\u001B[0m \u001B[32m━━━━━━━━━━━━━━━━━━━━\u001B[0m\u001B[37m\u001B[0m \u001B[1m3s\u001B[0m 11ms/step - accuracy: 0.4976 - loss: 0.6952 - val_accuracy: 0.4900 - val_loss: 0.6936\n",
      "Epoch 57/120\n",
      "\u001B[1m313/313\u001B[0m \u001B[32m━━━━━━━━━━━━━━━━━━━━\u001B[0m\u001B[37m\u001B[0m \u001B[1m3s\u001B[0m 11ms/step - accuracy: 0.5053 - loss: 0.6940 - val_accuracy: 0.5010 - val_loss: 0.6938\n",
      "Epoch 58/120\n",
      "\u001B[1m313/313\u001B[0m \u001B[32m━━━━━━━━━━━━━━━━━━━━\u001B[0m\u001B[37m\u001B[0m \u001B[1m3s\u001B[0m 11ms/step - accuracy: 0.5184 - loss: 0.6929 - val_accuracy: 0.4920 - val_loss: 0.6933\n",
      "Epoch 59/120\n",
      "\u001B[1m313/313\u001B[0m \u001B[32m━━━━━━━━━━━━━━━━━━━━\u001B[0m\u001B[37m\u001B[0m \u001B[1m4s\u001B[0m 11ms/step - accuracy: 0.5138 - loss: 0.6935 - val_accuracy: 0.5070 - val_loss: 0.6943\n",
      "Epoch 60/120\n",
      "\u001B[1m313/313\u001B[0m \u001B[32m━━━━━━━━━━━━━━━━━━━━\u001B[0m\u001B[37m\u001B[0m \u001B[1m3s\u001B[0m 11ms/step - accuracy: 0.5111 - loss: 0.6936 - val_accuracy: 0.4950 - val_loss: 0.6960\n",
      "Epoch 61/120\n",
      "\u001B[1m313/313\u001B[0m \u001B[32m━━━━━━━━━━━━━━━━━━━━\u001B[0m\u001B[37m\u001B[0m \u001B[1m3s\u001B[0m 11ms/step - accuracy: 0.5177 - loss: 0.6933 - val_accuracy: 0.4850 - val_loss: 0.6934\n",
      "Epoch 62/120\n",
      "\u001B[1m313/313\u001B[0m \u001B[32m━━━━━━━━━━━━━━━━━━━━\u001B[0m\u001B[37m\u001B[0m \u001B[1m3s\u001B[0m 11ms/step - accuracy: 0.5160 - loss: 0.6933 - val_accuracy: 0.4890 - val_loss: 0.6938\n",
      "Epoch 63/120\n",
      "\u001B[1m313/313\u001B[0m \u001B[32m━━━━━━━━━━━━━━━━━━━━\u001B[0m\u001B[37m\u001B[0m \u001B[1m3s\u001B[0m 11ms/step - accuracy: 0.5067 - loss: 0.6937 - val_accuracy: 0.5050 - val_loss: 0.6967\n",
      "Epoch 64/120\n",
      "\u001B[1m313/313\u001B[0m \u001B[32m━━━━━━━━━━━━━━━━━━━━\u001B[0m\u001B[37m\u001B[0m \u001B[1m3s\u001B[0m 10ms/step - accuracy: 0.5168 - loss: 0.6942 - val_accuracy: 0.4890 - val_loss: 0.6937\n",
      "Epoch 65/120\n",
      "\u001B[1m313/313\u001B[0m \u001B[32m━━━━━━━━━━━━━━━━━━━━\u001B[0m\u001B[37m\u001B[0m \u001B[1m3s\u001B[0m 11ms/step - accuracy: 0.5220 - loss: 0.6922 - val_accuracy: 0.4990 - val_loss: 0.6948\n",
      "Epoch 66/120\n",
      "\u001B[1m313/313\u001B[0m \u001B[32m━━━━━━━━━━━━━━━━━━━━\u001B[0m\u001B[37m\u001B[0m \u001B[1m3s\u001B[0m 11ms/step - accuracy: 0.5175 - loss: 0.6934 - val_accuracy: 0.5060 - val_loss: 0.6943\n",
      "Epoch 67/120\n",
      "\u001B[1m313/313\u001B[0m \u001B[32m━━━━━━━━━━━━━━━━━━━━\u001B[0m\u001B[37m\u001B[0m \u001B[1m3s\u001B[0m 11ms/step - accuracy: 0.5079 - loss: 0.6944 - val_accuracy: 0.5040 - val_loss: 0.6937\n",
      "Epoch 68/120\n",
      "\u001B[1m313/313\u001B[0m \u001B[32m━━━━━━━━━━━━━━━━━━━━\u001B[0m\u001B[37m\u001B[0m \u001B[1m3s\u001B[0m 11ms/step - accuracy: 0.5215 - loss: 0.6928 - val_accuracy: 0.4960 - val_loss: 0.6948\n",
      "Epoch 69/120\n",
      "\u001B[1m313/313\u001B[0m \u001B[32m━━━━━━━━━━━━━━━━━━━━\u001B[0m\u001B[37m\u001B[0m \u001B[1m3s\u001B[0m 10ms/step - accuracy: 0.5203 - loss: 0.6923 - val_accuracy: 0.5210 - val_loss: 0.6940\n",
      "Epoch 70/120\n",
      "\u001B[1m313/313\u001B[0m \u001B[32m━━━━━━━━━━━━━━━━━━━━\u001B[0m\u001B[37m\u001B[0m \u001B[1m3s\u001B[0m 11ms/step - accuracy: 0.5273 - loss: 0.6919 - val_accuracy: 0.5200 - val_loss: 0.6948\n",
      "Epoch 71/120\n",
      "\u001B[1m313/313\u001B[0m \u001B[32m━━━━━━━━━━━━━━━━━━━━\u001B[0m\u001B[37m\u001B[0m \u001B[1m3s\u001B[0m 11ms/step - accuracy: 0.5296 - loss: 0.6913 - val_accuracy: 0.4840 - val_loss: 0.6940\n",
      "Epoch 72/120\n",
      "\u001B[1m313/313\u001B[0m \u001B[32m━━━━━━━━━━━━━━━━━━━━\u001B[0m\u001B[37m\u001B[0m \u001B[1m3s\u001B[0m 10ms/step - accuracy: 0.5179 - loss: 0.6923 - val_accuracy: 0.4960 - val_loss: 0.6963\n",
      "Epoch 73/120\n",
      "\u001B[1m313/313\u001B[0m \u001B[32m━━━━━━━━━━━━━━━━━━━━\u001B[0m\u001B[37m\u001B[0m \u001B[1m3s\u001B[0m 11ms/step - accuracy: 0.5230 - loss: 0.6922 - val_accuracy: 0.5020 - val_loss: 0.6947\n",
      "Epoch 74/120\n",
      "\u001B[1m313/313\u001B[0m \u001B[32m━━━━━━━━━━━━━━━━━━━━\u001B[0m\u001B[37m\u001B[0m \u001B[1m3s\u001B[0m 11ms/step - accuracy: 0.5100 - loss: 0.6931 - val_accuracy: 0.5020 - val_loss: 0.6956\n",
      "Epoch 75/120\n",
      "\u001B[1m313/313\u001B[0m \u001B[32m━━━━━━━━━━━━━━━━━━━━\u001B[0m\u001B[37m\u001B[0m \u001B[1m3s\u001B[0m 10ms/step - accuracy: 0.5249 - loss: 0.6928 - val_accuracy: 0.4740 - val_loss: 0.6961\n",
      "Epoch 76/120\n",
      "\u001B[1m313/313\u001B[0m \u001B[32m━━━━━━━━━━━━━━━━━━━━\u001B[0m\u001B[37m\u001B[0m \u001B[1m3s\u001B[0m 11ms/step - accuracy: 0.5338 - loss: 0.6889 - val_accuracy: 0.4960 - val_loss: 0.6951\n",
      "Epoch 77/120\n",
      "\u001B[1m313/313\u001B[0m \u001B[32m━━━━━━━━━━━━━━━━━━━━\u001B[0m\u001B[37m\u001B[0m \u001B[1m3s\u001B[0m 11ms/step - accuracy: 0.5150 - loss: 0.6927 - val_accuracy: 0.5150 - val_loss: 0.6973\n",
      "Epoch 78/120\n",
      "\u001B[1m313/313\u001B[0m \u001B[32m━━━━━━━━━━━━━━━━━━━━\u001B[0m\u001B[37m\u001B[0m \u001B[1m3s\u001B[0m 11ms/step - accuracy: 0.5289 - loss: 0.6919 - val_accuracy: 0.5130 - val_loss: 0.6951\n",
      "Epoch 79/120\n",
      "\u001B[1m313/313\u001B[0m \u001B[32m━━━━━━━━━━━━━━━━━━━━\u001B[0m\u001B[37m\u001B[0m \u001B[1m3s\u001B[0m 11ms/step - accuracy: 0.5207 - loss: 0.6912 - val_accuracy: 0.4780 - val_loss: 0.6942\n",
      "Epoch 80/120\n",
      "\u001B[1m313/313\u001B[0m \u001B[32m━━━━━━━━━━━━━━━━━━━━\u001B[0m\u001B[37m\u001B[0m \u001B[1m3s\u001B[0m 10ms/step - accuracy: 0.5436 - loss: 0.6879 - val_accuracy: 0.5130 - val_loss: 0.6947\n",
      "Epoch 81/120\n",
      "\u001B[1m313/313\u001B[0m \u001B[32m━━━━━━━━━━━━━━━━━━━━\u001B[0m\u001B[37m\u001B[0m \u001B[1m3s\u001B[0m 11ms/step - accuracy: 0.5237 - loss: 0.6912 - val_accuracy: 0.5040 - val_loss: 0.6993\n",
      "Epoch 82/120\n",
      "\u001B[1m313/313\u001B[0m \u001B[32m━━━━━━━━━━━━━━━━━━━━\u001B[0m\u001B[37m\u001B[0m \u001B[1m3s\u001B[0m 11ms/step - accuracy: 0.5174 - loss: 0.6920 - val_accuracy: 0.5020 - val_loss: 0.6945\n",
      "Epoch 83/120\n",
      "\u001B[1m313/313\u001B[0m \u001B[32m━━━━━━━━━━━━━━━━━━━━\u001B[0m\u001B[37m\u001B[0m \u001B[1m3s\u001B[0m 11ms/step - accuracy: 0.5314 - loss: 0.6899 - val_accuracy: 0.4990 - val_loss: 0.6946\n",
      "Epoch 84/120\n",
      "\u001B[1m313/313\u001B[0m \u001B[32m━━━━━━━━━━━━━━━━━━━━\u001B[0m\u001B[37m\u001B[0m \u001B[1m3s\u001B[0m 10ms/step - accuracy: 0.5282 - loss: 0.6907 - val_accuracy: 0.4950 - val_loss: 0.6950\n",
      "Epoch 85/120\n",
      "\u001B[1m313/313\u001B[0m \u001B[32m━━━━━━━━━━━━━━━━━━━━\u001B[0m\u001B[37m\u001B[0m \u001B[1m3s\u001B[0m 10ms/step - accuracy: 0.5281 - loss: 0.6909 - val_accuracy: 0.5080 - val_loss: 0.6961\n",
      "Epoch 86/120\n",
      "\u001B[1m313/313\u001B[0m \u001B[32m━━━━━━━━━━━━━━━━━━━━\u001B[0m\u001B[37m\u001B[0m \u001B[1m3s\u001B[0m 10ms/step - accuracy: 0.5379 - loss: 0.6889 - val_accuracy: 0.5100 - val_loss: 0.6946\n",
      "Epoch 87/120\n",
      "\u001B[1m313/313\u001B[0m \u001B[32m━━━━━━━━━━━━━━━━━━━━\u001B[0m\u001B[37m\u001B[0m \u001B[1m3s\u001B[0m 10ms/step - accuracy: 0.5283 - loss: 0.6898 - val_accuracy: 0.4890 - val_loss: 0.6944\n",
      "Epoch 88/120\n",
      "\u001B[1m313/313\u001B[0m \u001B[32m━━━━━━━━━━━━━━━━━━━━\u001B[0m\u001B[37m\u001B[0m \u001B[1m3s\u001B[0m 11ms/step - accuracy: 0.5283 - loss: 0.6882 - val_accuracy: 0.4950 - val_loss: 0.6952\n",
      "Epoch 89/120\n",
      "\u001B[1m313/313\u001B[0m \u001B[32m━━━━━━━━━━━━━━━━━━━━\u001B[0m\u001B[37m\u001B[0m \u001B[1m3s\u001B[0m 11ms/step - accuracy: 0.5179 - loss: 0.6912 - val_accuracy: 0.5100 - val_loss: 0.6950\n",
      "Epoch 90/120\n",
      "\u001B[1m313/313\u001B[0m \u001B[32m━━━━━━━━━━━━━━━━━━━━\u001B[0m\u001B[37m\u001B[0m \u001B[1m3s\u001B[0m 10ms/step - accuracy: 0.5310 - loss: 0.6881 - val_accuracy: 0.5030 - val_loss: 0.6946\n",
      "Epoch 91/120\n",
      "\u001B[1m313/313\u001B[0m \u001B[32m━━━━━━━━━━━━━━━━━━━━\u001B[0m\u001B[37m\u001B[0m \u001B[1m3s\u001B[0m 11ms/step - accuracy: 0.5381 - loss: 0.6881 - val_accuracy: 0.5120 - val_loss: 0.6942\n",
      "Epoch 92/120\n",
      "\u001B[1m313/313\u001B[0m \u001B[32m━━━━━━━━━━━━━━━━━━━━\u001B[0m\u001B[37m\u001B[0m \u001B[1m3s\u001B[0m 10ms/step - accuracy: 0.5407 - loss: 0.6882 - val_accuracy: 0.5060 - val_loss: 0.6948\n",
      "Epoch 93/120\n",
      "\u001B[1m313/313\u001B[0m \u001B[32m━━━━━━━━━━━━━━━━━━━━\u001B[0m\u001B[37m\u001B[0m \u001B[1m3s\u001B[0m 10ms/step - accuracy: 0.5366 - loss: 0.6892 - val_accuracy: 0.5070 - val_loss: 0.6954\n",
      "Epoch 94/120\n",
      "\u001B[1m313/313\u001B[0m \u001B[32m━━━━━━━━━━━━━━━━━━━━\u001B[0m\u001B[37m\u001B[0m \u001B[1m3s\u001B[0m 10ms/step - accuracy: 0.5364 - loss: 0.6888 - val_accuracy: 0.5130 - val_loss: 0.6974\n",
      "Epoch 95/120\n",
      "\u001B[1m313/313\u001B[0m \u001B[32m━━━━━━━━━━━━━━━━━━━━\u001B[0m\u001B[37m\u001B[0m \u001B[1m3s\u001B[0m 10ms/step - accuracy: 0.5224 - loss: 0.6919 - val_accuracy: 0.5170 - val_loss: 0.6972\n",
      "Epoch 96/120\n",
      "\u001B[1m313/313\u001B[0m \u001B[32m━━━━━━━━━━━━━━━━━━━━\u001B[0m\u001B[37m\u001B[0m \u001B[1m3s\u001B[0m 10ms/step - accuracy: 0.5243 - loss: 0.6897 - val_accuracy: 0.5010 - val_loss: 0.6959\n",
      "Epoch 97/120\n",
      "\u001B[1m313/313\u001B[0m \u001B[32m━━━━━━━━━━━━━━━━━━━━\u001B[0m\u001B[37m\u001B[0m \u001B[1m3s\u001B[0m 10ms/step - accuracy: 0.5349 - loss: 0.6876 - val_accuracy: 0.4990 - val_loss: 0.6945\n",
      "Epoch 98/120\n",
      "\u001B[1m313/313\u001B[0m \u001B[32m━━━━━━━━━━━━━━━━━━━━\u001B[0m\u001B[37m\u001B[0m \u001B[1m3s\u001B[0m 10ms/step - accuracy: 0.5536 - loss: 0.6840 - val_accuracy: 0.5100 - val_loss: 0.6957\n",
      "Epoch 99/120\n",
      "\u001B[1m313/313\u001B[0m \u001B[32m━━━━━━━━━━━━━━━━━━━━\u001B[0m\u001B[37m\u001B[0m \u001B[1m3s\u001B[0m 11ms/step - accuracy: 0.5358 - loss: 0.6866 - val_accuracy: 0.5100 - val_loss: 0.6953\n",
      "Epoch 100/120\n",
      "\u001B[1m313/313\u001B[0m \u001B[32m━━━━━━━━━━━━━━━━━━━━\u001B[0m\u001B[37m\u001B[0m \u001B[1m3s\u001B[0m 10ms/step - accuracy: 0.5354 - loss: 0.6858 - val_accuracy: 0.5060 - val_loss: 0.6942\n",
      "Epoch 101/120\n",
      "\u001B[1m313/313\u001B[0m \u001B[32m━━━━━━━━━━━━━━━━━━━━\u001B[0m\u001B[37m\u001B[0m \u001B[1m3s\u001B[0m 11ms/step - accuracy: 0.5313 - loss: 0.6866 - val_accuracy: 0.5090 - val_loss: 0.6963\n",
      "Epoch 102/120\n",
      "\u001B[1m313/313\u001B[0m \u001B[32m━━━━━━━━━━━━━━━━━━━━\u001B[0m\u001B[37m\u001B[0m \u001B[1m3s\u001B[0m 9ms/step - accuracy: 0.5500 - loss: 0.6827 - val_accuracy: 0.5040 - val_loss: 0.6940\n",
      "Epoch 103/120\n",
      "\u001B[1m313/313\u001B[0m \u001B[32m━━━━━━━━━━━━━━━━━━━━\u001B[0m\u001B[37m\u001B[0m \u001B[1m3s\u001B[0m 11ms/step - accuracy: 0.5364 - loss: 0.6840 - val_accuracy: 0.5140 - val_loss: 0.6984\n",
      "Epoch 104/120\n",
      "\u001B[1m313/313\u001B[0m \u001B[32m━━━━━━━━━━━━━━━━━━━━\u001B[0m\u001B[37m\u001B[0m \u001B[1m4s\u001B[0m 12ms/step - accuracy: 0.5279 - loss: 0.6864 - val_accuracy: 0.5090 - val_loss: 0.6949\n",
      "Epoch 105/120\n",
      "\u001B[1m313/313\u001B[0m \u001B[32m━━━━━━━━━━━━━━━━━━━━\u001B[0m\u001B[37m\u001B[0m \u001B[1m4s\u001B[0m 12ms/step - accuracy: 0.5406 - loss: 0.6822 - val_accuracy: 0.5170 - val_loss: 0.6963\n",
      "Epoch 106/120\n",
      "\u001B[1m313/313\u001B[0m \u001B[32m━━━━━━━━━━━━━━━━━━━━\u001B[0m\u001B[37m\u001B[0m \u001B[1m4s\u001B[0m 11ms/step - accuracy: 0.5292 - loss: 0.6852 - val_accuracy: 0.5190 - val_loss: 0.6941\n",
      "Epoch 107/120\n",
      "\u001B[1m313/313\u001B[0m \u001B[32m━━━━━━━━━━━━━━━━━━━━\u001B[0m\u001B[37m\u001B[0m \u001B[1m4s\u001B[0m 11ms/step - accuracy: 0.5425 - loss: 0.6824 - val_accuracy: 0.5180 - val_loss: 0.6998\n",
      "Epoch 108/120\n",
      "\u001B[1m313/313\u001B[0m \u001B[32m━━━━━━━━━━━━━━━━━━━━\u001B[0m\u001B[37m\u001B[0m \u001B[1m3s\u001B[0m 11ms/step - accuracy: 0.5514 - loss: 0.6799 - val_accuracy: 0.5140 - val_loss: 0.6936\n",
      "Epoch 109/120\n",
      "\u001B[1m313/313\u001B[0m \u001B[32m━━━━━━━━━━━━━━━━━━━━\u001B[0m\u001B[37m\u001B[0m \u001B[1m3s\u001B[0m 11ms/step - accuracy: 0.5462 - loss: 0.6823 - val_accuracy: 0.5100 - val_loss: 0.6960\n",
      "Epoch 110/120\n",
      "\u001B[1m313/313\u001B[0m \u001B[32m━━━━━━━━━━━━━━━━━━━━\u001B[0m\u001B[37m\u001B[0m \u001B[1m3s\u001B[0m 11ms/step - accuracy: 0.5408 - loss: 0.6833 - val_accuracy: 0.5200 - val_loss: 0.6947\n",
      "Epoch 111/120\n",
      "\u001B[1m313/313\u001B[0m \u001B[32m━━━━━━━━━━━━━━━━━━━━\u001B[0m\u001B[37m\u001B[0m \u001B[1m3s\u001B[0m 11ms/step - accuracy: 0.5481 - loss: 0.6821 - val_accuracy: 0.4920 - val_loss: 0.6986\n",
      "Epoch 112/120\n",
      "\u001B[1m313/313\u001B[0m \u001B[32m━━━━━━━━━━━━━━━━━━━━\u001B[0m\u001B[37m\u001B[0m \u001B[1m3s\u001B[0m 11ms/step - accuracy: 0.5441 - loss: 0.6822 - val_accuracy: 0.5070 - val_loss: 0.6993\n",
      "Epoch 113/120\n",
      "\u001B[1m313/313\u001B[0m \u001B[32m━━━━━━━━━━━━━━━━━━━━\u001B[0m\u001B[37m\u001B[0m \u001B[1m3s\u001B[0m 10ms/step - accuracy: 0.5415 - loss: 0.6821 - val_accuracy: 0.5240 - val_loss: 0.6998\n",
      "Epoch 114/120\n",
      "\u001B[1m313/313\u001B[0m \u001B[32m━━━━━━━━━━━━━━━━━━━━\u001B[0m\u001B[37m\u001B[0m \u001B[1m3s\u001B[0m 11ms/step - accuracy: 0.5604 - loss: 0.6773 - val_accuracy: 0.5040 - val_loss: 0.7037\n",
      "Epoch 115/120\n",
      "\u001B[1m313/313\u001B[0m \u001B[32m━━━━━━━━━━━━━━━━━━━━\u001B[0m\u001B[37m\u001B[0m \u001B[1m3s\u001B[0m 11ms/step - accuracy: 0.5454 - loss: 0.6802 - val_accuracy: 0.5050 - val_loss: 0.6979\n",
      "Epoch 116/120\n",
      "\u001B[1m313/313\u001B[0m \u001B[32m━━━━━━━━━━━━━━━━━━━━\u001B[0m\u001B[37m\u001B[0m \u001B[1m3s\u001B[0m 10ms/step - accuracy: 0.5461 - loss: 0.6802 - val_accuracy: 0.5130 - val_loss: 0.6969\n",
      "Epoch 117/120\n",
      "\u001B[1m313/313\u001B[0m \u001B[32m━━━━━━━━━━━━━━━━━━━━\u001B[0m\u001B[37m\u001B[0m \u001B[1m3s\u001B[0m 10ms/step - accuracy: 0.5413 - loss: 0.6812 - val_accuracy: 0.5150 - val_loss: 0.6965\n",
      "Epoch 118/120\n",
      "\u001B[1m313/313\u001B[0m \u001B[32m━━━━━━━━━━━━━━━━━━━━\u001B[0m\u001B[37m\u001B[0m \u001B[1m3s\u001B[0m 10ms/step - accuracy: 0.5445 - loss: 0.6795 - val_accuracy: 0.5200 - val_loss: 0.6976\n",
      "Epoch 119/120\n",
      "\u001B[1m313/313\u001B[0m \u001B[32m━━━━━━━━━━━━━━━━━━━━\u001B[0m\u001B[37m\u001B[0m \u001B[1m3s\u001B[0m 11ms/step - accuracy: 0.5581 - loss: 0.6787 - val_accuracy: 0.5170 - val_loss: 0.7012\n",
      "Epoch 120/120\n",
      "\u001B[1m313/313\u001B[0m \u001B[32m━━━━━━━━━━━━━━━━━━━━\u001B[0m\u001B[37m\u001B[0m \u001B[1m3s\u001B[0m 11ms/step - accuracy: 0.5459 - loss: 0.6811 - val_accuracy: 0.5060 - val_loss: 0.7001\n"
     ]
    }
   ],
   "execution_count": 184
  },
  {
   "metadata": {
    "ExecuteTime": {
     "end_time": "2024-09-18T15:38:01.229377Z",
     "start_time": "2024-09-18T15:38:01.150704Z"
    }
   },
   "cell_type": "code",
   "source": [
    "filename = 'chatbot_120_epochs.keras'\n",
    "model.save(filename)"
   ],
   "id": "7a28dd1569cee848",
   "outputs": [],
   "execution_count": 122
  },
  {
   "metadata": {
    "ExecuteTime": {
     "end_time": "2024-09-18T15:38:12.112602Z",
     "start_time": "2024-09-18T15:38:11.970688Z"
    }
   },
   "cell_type": "code",
   "source": "model = tf.keras.models.load_model(filename)",
   "id": "c3bc041dc21b4201",
   "outputs": [],
   "execution_count": 123
  },
  {
   "metadata": {
    "ExecuteTime": {
     "end_time": "2024-09-18T15:38:20.764922Z",
     "start_time": "2024-09-18T15:38:20.134705Z"
    }
   },
   "cell_type": "code",
   "source": "pred_results = model.predict([inputs_test, queries_test])",
   "id": "b545da3e5c6df34a",
   "outputs": [
    {
     "name": "stdout",
     "output_type": "stream",
     "text": [
      "\u001B[1m32/32\u001B[0m \u001B[32m━━━━━━━━━━━━━━━━━━━━\u001B[0m\u001B[37m\u001B[0m \u001B[1m1s\u001B[0m 10ms/step\n"
     ]
    }
   ],
   "execution_count": 124
  },
  {
   "metadata": {
    "ExecuteTime": {
     "end_time": "2024-09-18T15:38:24.305567Z",
     "start_time": "2024-09-18T15:38:24.299678Z"
    }
   },
   "cell_type": "code",
   "source": [
    "story = ' '.join(word for word in test_data[0][0])\n",
    "query = ' '.join(word for word in test_data[0][1])\n",
    "print(\"True Test Answer from Data is:\", test_data[0][2])"
   ],
   "id": "b05e52abc2f656e2",
   "outputs": [
    {
     "name": "stdout",
     "output_type": "stream",
     "text": [
      "True Test Answer from Data is: no\n"
     ]
    }
   ],
   "execution_count": 125
  },
  {
   "metadata": {
    "ExecuteTime": {
     "end_time": "2024-09-18T15:40:18.443267Z",
     "start_time": "2024-09-18T15:40:18.437109Z"
    }
   },
   "cell_type": "code",
   "source": "vocab_list = vectorizer.get_vocabulary()",
   "id": "c540182df6ca2597",
   "outputs": [],
   "execution_count": 127
  },
  {
   "metadata": {
    "ExecuteTime": {
     "end_time": "2024-09-18T15:40:31.994261Z",
     "start_time": "2024-09-18T15:40:31.988946Z"
    }
   },
   "cell_type": "code",
   "source": [
    "# Generate prediction from model\n",
    "val_max = np.argmax(pred_results[0])\n",
    "if val_max < len(vocab_list):  # Ensure index is within the vocabulary list\n",
    "    predicted_term = vocab_list[val_max]\n",
    "else:\n",
    "    predicted_term = 'Unknown'"
   ],
   "id": "186f15a4b93e7494",
   "outputs": [],
   "execution_count": 128
  },
  {
   "metadata": {
    "ExecuteTime": {
     "end_time": "2024-09-18T15:40:40.937625Z",
     "start_time": "2024-09-18T15:40:40.932490Z"
    }
   },
   "cell_type": "code",
   "source": [
    "print(\"Predicted answer is: \", predicted_term)\n",
    "print(\"Probability of certainty was: \", pred_results[0][val_max])"
   ],
   "id": "a8a57bc60bb05078",
   "outputs": [
    {
     "name": "stdout",
     "output_type": "stream",
     "text": [
      "Predicted answer is:  moved\n",
      "Probability of certainty was:  0.50341785\n"
     ]
    }
   ],
   "execution_count": 129
  },
  {
   "metadata": {
    "ExecuteTime": {
     "end_time": "2024-09-18T15:44:20.230792Z",
     "start_time": "2024-09-18T15:44:19.900179Z"
    }
   },
   "cell_type": "code",
   "source": [
    "import matplotlib.pyplot as plt\n",
    "%matplotlib inline\n",
    "# Plotting the training history\n",
    "plt.figure(figsize=(12, 6))\n",
    "\n",
    "# Plot training & validation accuracy values\n",
    "plt.subplot(1, 2, 1)\n",
    "plt.plot(history.history['accuracy'])\n",
    "plt.plot(history.history['val_accuracy'])\n",
    "plt.title('Model Accuracy')\n",
    "plt.ylabel('Accuracy')\n",
    "plt.xlabel('Epoch')\n",
    "plt.legend(['Train', 'Validation'], loc='upper left')\n",
    "\n",
    "# Plot training & validation loss values\n",
    "plt.subplot(1, 2, 2)\n",
    "plt.plot(history.history['loss'])\n",
    "plt.plot(history.history['val_loss'])\n",
    "plt.title('Model Loss')\n",
    "plt.ylabel('Loss')\n",
    "plt.xlabel('Epoch')\n",
    "plt.legend(['Train', 'Validation'], loc='upper left')\n",
    "\n",
    "plt.show()"
   ],
   "id": "2b580faf861e643d",
   "outputs": [
    {
     "data": {
      "text/plain": [
       "<Figure size 1200x600 with 2 Axes>"
      ],
      "image/png": "[encoded data removed]"
     },
     "metadata": {},
     "output_type": "display_data"
    }
   ],
   "execution_count": 132
  },
  {
   "metadata": {},
   "cell_type": "code",
   "outputs": [],
   "execution_count": null,
   "source": "",
   "id": "cad7e7a406ef1b"
  }
 ],
 "metadata": {
  "kernelspec": {
   "display_name": "Python 3",
   "language": "python",
   "name": "python3"
  },
  "language_info": {
   "codemirror_mode": {
    "name": "ipython",
    "version": 2
   },
   "file_extension": ".py",
   "mimetype": "text/x-python",
   "name": "python",
   "nbconvert_exporter": "python",
   "pygments_lexer": "ipython2",
   "version": "2.7.6"
  }
 },
 "nbformat": 4,
 "nbformat_minor": 5
}
